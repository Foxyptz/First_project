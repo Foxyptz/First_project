{
 "cells": [
  {
   "cell_type": "markdown",
   "metadata": {},
   "source": [
    "Привет, меня зовут Артем Хуршудов. Сегодня я проверю твой проект.\n",
    "<br> Дальнейшее общение будет происходить на \"ты\" если это не вызывает никаких проблем.\n",
    "<br> Желательно реагировать на каждый мой комментарий ('исправил', 'не понятно как исправить ошибку', ...)\n",
    "<br> Пожалуйста, не удаляй комментарии ревьюера, так как они повышают качество повторного ревью.\n",
    "\n",
    "Комментарии будут в <font color='green'>зеленой</font>, <font color='blue'>синей</font> или <font color='red'>красной</font> рамках:\n",
    "\n",
    "<div class=\"alert alert-block alert-success\">\n",
    "<b>Успех:</b> Если все сделано отлично\n",
    "</div>\n",
    "\n",
    "<div class=\"alert alert-block alert-info\">\n",
    "<b>Совет: </b> Если можно немного улучшить\n",
    "</div>\n",
    "\n",
    "<div class=\"alert alert-block alert-danger\">\n",
    "<b>Ошибка:</b> Если требуются исправления. Работа не может быть принята с красными комментариями.\n",
    "</div>\n",
    "\n",
    "-------------------\n",
    "\n",
    "Будет очень хорошо, если ты будешь помечать свои действия следующим образом:\n",
    "<div class=\"alert alert-block alert-warning\">\n",
    "<b>Комментарий студента:</b> ...\n",
    "</div>\n",
    "\n",
    "<div class=\"alert alert-block alert-warning\">\n",
    "<b>Изменения:</b> Были внесены следующие изменения ...\n",
    "</div>\n",
    "\n",
    "### <font color='orange'>Общее впечатление</font>\n",
    "* Этот проект выполнен очень хорошо.\n",
    "* Молодец, что структурируешь ноутбук, приятно проверять такие работы.\n",
    "* Советую использовать маркеры, жирный шрифт итд в текстовых комментариях. Хорошо структурированную информацию намного легче воспринимать.\n",
    "* Интересная статья про одну из метрик: <a href=\"https://dyakonov.org/2017/07/28/auc-roc-площадь-под-кривой-ошибок/\">ссылка</a>.\n",
    "* В работе допущена ошибка. Однако исправления не займут много времени.\n",
    "* Жду новую версию проекта."
   ]
  },
  {
   "cell_type": "markdown",
   "metadata": {},
   "source": [
    "### <font color='orange'>Общее впечатление (ревью 2)</font>\n",
    "* После исправлений проект улучшился и теперь он может быть зачтен.\n",
    "* Удачи в дальнейшем обучении и следующих работах!"
   ]
  },
  {
   "cell_type": "markdown",
   "metadata": {
    "toc": true
   },
   "source": [
    "<h1>Содержание<span class=\"tocSkip\"></span></h1>\n",
    "<div class=\"toc\"><ul class=\"toc-item\"><li><ul class=\"toc-item\"><li><span><a href=\"#Общее-впечатление\" data-toc-modified-id=\"Общее-впечатление-0.1\"><span class=\"toc-item-num\">0.1&nbsp;&nbsp;</span><font color=\"orange\">Общее впечатление</font></a></span></li><li><span><a href=\"#Общее-впечатление-(ревью-2)\" data-toc-modified-id=\"Общее-впечатление-(ревью-2)-0.2\"><span class=\"toc-item-num\">0.2&nbsp;&nbsp;</span><font color=\"orange\">Общее впечатление (ревью 2)</font></a></span></li></ul></li><li><span><a href=\"#Подготовка-данных\" data-toc-modified-id=\"Подготовка-данных-1\"><span class=\"toc-item-num\">1&nbsp;&nbsp;</span>Подготовка данных</a></span></li><li><span><a href=\"#Исследование-задачи\" data-toc-modified-id=\"Исследование-задачи-2\"><span class=\"toc-item-num\">2&nbsp;&nbsp;</span>Исследование задачи</a></span></li><li><span><a href=\"#Борьба-с-дисбалансом\" data-toc-modified-id=\"Борьба-с-дисбалансом-3\"><span class=\"toc-item-num\">3&nbsp;&nbsp;</span>Борьба с дисбалансом</a></span></li><li><span><a href=\"#Тестирование-модели\" data-toc-modified-id=\"Тестирование-модели-4\"><span class=\"toc-item-num\">4&nbsp;&nbsp;</span>Тестирование модели</a></span></li><li><span><a href=\"#Чек-лист-готовности-проекта\" data-toc-modified-id=\"Чек-лист-готовности-проекта-5\"><span class=\"toc-item-num\">5&nbsp;&nbsp;</span>Чек-лист готовности проекта</a></span></li></ul></div>"
   ]
  },
  {
   "cell_type": "markdown",
   "metadata": {},
   "source": [
    "# Отток клиентов"
   ]
  },
  {
   "cell_type": "markdown",
   "metadata": {},
   "source": [
    "Из «Бета-Банка» стали ежемесячно уходить клиенты, хоть и в небольшом количестве. Банковские маркетологи посчитали: сохранять текущих клиентов дешевле, чем привлекать новых.\n",
    "\n",
    "Нужно спрогнозировать, уйдёт клиент из банка в ближайшее время или нет на основании предоставленных исторических данных о поведении клиентов и расторжении договоров с банком. \n",
    "\n",
    "Построим модель с предельно большим значением *F1*-меры, больше 0.59. Проверим *F1*-меру на тестовой выборке.\n",
    "\n",
    "Дополнительно измерим *AUC-ROC*, сравнивним её значение с *F1*-мерой.\n",
    "\n",
    "Источник данных: [https://www.kaggle.com/barelydedicated/bank-customer-churn-modeling](https://www.kaggle.com/barelydedicated/bank-customer-churn-modeling)"
   ]
  },
  {
   "cell_type": "markdown",
   "metadata": {},
   "source": [
    "**Признаки** <br>\n",
    "* RowNumber — индекс строки в данных\n",
    "* CustomerId — уникальный идентификатор клиента\n",
    "* Surname — фамилия\n",
    "* CreditScore — кредитный рейтинг\n",
    "* Geography — страна проживания\n",
    "* Gender — пол\n",
    "* Age — возраст\n",
    "* Tenure — сколько лет человек является клиентом банка\n",
    "* Balance — баланс на счёте\n",
    "* NumOfProducts — количество продуктов банка, используемых клиентом\n",
    "* HasCrCard — наличие кредитной карты\n",
    "* IsActiveMember — активность клиента\n",
    "* EstimatedSalary — предполагаемая зарплата"
   ]
  },
  {
   "cell_type": "markdown",
   "metadata": {},
   "source": [
    "**Целевой признак** <br>\n",
    "* Exited — факт ухода клиента"
   ]
  },
  {
   "cell_type": "markdown",
   "metadata": {},
   "source": [
    "## Подготовка данных"
   ]
  },
  {
   "cell_type": "markdown",
   "metadata": {},
   "source": [
    "Импортируем библиотеки."
   ]
  },
  {
   "cell_type": "code",
   "execution_count": 1,
   "metadata": {},
   "outputs": [],
   "source": [
    "import pandas as pd\n",
    "from sklearn.model_selection import train_test_split\n",
    "from sklearn.linear_model import LogisticRegression\n",
    "from sklearn.tree import DecisionTreeClassifier\n",
    "from sklearn.ensemble import RandomForestClassifier\n",
    "from sklearn.preprocessing import StandardScaler\n",
    "from sklearn.metrics import f1_score, accuracy_score, confusion_matrix, roc_auc_score, roc_curve\n",
    "from sklearn.utils import shuffle\n",
    "import random\n",
    "import matplotlib.pyplot as plt\n",
    "\n",
    "pd.options.mode.chained_assignment = None"
   ]
  },
  {
   "cell_type": "markdown",
   "metadata": {},
   "source": [
    "<div class=\"alert alert-block alert-success\">\n",
    "<b>Успех:</b> Отлично, что все импорты собраны в первой ячейке ноутбука! Если у того, кто будет запускать твой ноутбук будут отсутствовать некоторые библиотеки, то он это увидит сразу, а не в процессе!\n",
    "</div>"
   ]
  },
  {
   "cell_type": "markdown",
   "metadata": {},
   "source": [
    "Загрузим и рассмотрим данные."
   ]
  },
  {
   "cell_type": "code",
   "execution_count": 2,
   "metadata": {},
   "outputs": [
    {
     "name": "stdout",
     "output_type": "stream",
     "text": [
      "<class 'pandas.core.frame.DataFrame'>\n",
      "RangeIndex: 10000 entries, 0 to 9999\n",
      "Data columns (total 14 columns):\n",
      "RowNumber          10000 non-null int64\n",
      "CustomerId         10000 non-null int64\n",
      "Surname            10000 non-null object\n",
      "CreditScore        10000 non-null int64\n",
      "Geography          10000 non-null object\n",
      "Gender             10000 non-null object\n",
      "Age                10000 non-null int64\n",
      "Tenure             9091 non-null float64\n",
      "Balance            10000 non-null float64\n",
      "NumOfProducts      10000 non-null int64\n",
      "HasCrCard          10000 non-null int64\n",
      "IsActiveMember     10000 non-null int64\n",
      "EstimatedSalary    10000 non-null float64\n",
      "Exited             10000 non-null int64\n",
      "dtypes: float64(3), int64(8), object(3)\n",
      "memory usage: 1.1+ MB\n",
      "None\n"
     ]
    },
    {
     "data": {
      "text/html": [
       "<div>\n",
       "<style scoped>\n",
       "    .dataframe tbody tr th:only-of-type {\n",
       "        vertical-align: middle;\n",
       "    }\n",
       "\n",
       "    .dataframe tbody tr th {\n",
       "        vertical-align: top;\n",
       "    }\n",
       "\n",
       "    .dataframe thead th {\n",
       "        text-align: right;\n",
       "    }\n",
       "</style>\n",
       "<table border=\"1\" class=\"dataframe\">\n",
       "  <thead>\n",
       "    <tr style=\"text-align: right;\">\n",
       "      <th></th>\n",
       "      <th>RowNumber</th>\n",
       "      <th>CustomerId</th>\n",
       "      <th>Surname</th>\n",
       "      <th>CreditScore</th>\n",
       "      <th>Geography</th>\n",
       "      <th>Gender</th>\n",
       "      <th>Age</th>\n",
       "      <th>Tenure</th>\n",
       "      <th>Balance</th>\n",
       "      <th>NumOfProducts</th>\n",
       "      <th>HasCrCard</th>\n",
       "      <th>IsActiveMember</th>\n",
       "      <th>EstimatedSalary</th>\n",
       "      <th>Exited</th>\n",
       "    </tr>\n",
       "  </thead>\n",
       "  <tbody>\n",
       "    <tr>\n",
       "      <td>0</td>\n",
       "      <td>1</td>\n",
       "      <td>15634602</td>\n",
       "      <td>Hargrave</td>\n",
       "      <td>619</td>\n",
       "      <td>France</td>\n",
       "      <td>Female</td>\n",
       "      <td>42</td>\n",
       "      <td>2.0</td>\n",
       "      <td>0.00</td>\n",
       "      <td>1</td>\n",
       "      <td>1</td>\n",
       "      <td>1</td>\n",
       "      <td>101348.88</td>\n",
       "      <td>1</td>\n",
       "    </tr>\n",
       "    <tr>\n",
       "      <td>1</td>\n",
       "      <td>2</td>\n",
       "      <td>15647311</td>\n",
       "      <td>Hill</td>\n",
       "      <td>608</td>\n",
       "      <td>Spain</td>\n",
       "      <td>Female</td>\n",
       "      <td>41</td>\n",
       "      <td>1.0</td>\n",
       "      <td>83807.86</td>\n",
       "      <td>1</td>\n",
       "      <td>0</td>\n",
       "      <td>1</td>\n",
       "      <td>112542.58</td>\n",
       "      <td>0</td>\n",
       "    </tr>\n",
       "    <tr>\n",
       "      <td>2</td>\n",
       "      <td>3</td>\n",
       "      <td>15619304</td>\n",
       "      <td>Onio</td>\n",
       "      <td>502</td>\n",
       "      <td>France</td>\n",
       "      <td>Female</td>\n",
       "      <td>42</td>\n",
       "      <td>8.0</td>\n",
       "      <td>159660.80</td>\n",
       "      <td>3</td>\n",
       "      <td>1</td>\n",
       "      <td>0</td>\n",
       "      <td>113931.57</td>\n",
       "      <td>1</td>\n",
       "    </tr>\n",
       "    <tr>\n",
       "      <td>3</td>\n",
       "      <td>4</td>\n",
       "      <td>15701354</td>\n",
       "      <td>Boni</td>\n",
       "      <td>699</td>\n",
       "      <td>France</td>\n",
       "      <td>Female</td>\n",
       "      <td>39</td>\n",
       "      <td>1.0</td>\n",
       "      <td>0.00</td>\n",
       "      <td>2</td>\n",
       "      <td>0</td>\n",
       "      <td>0</td>\n",
       "      <td>93826.63</td>\n",
       "      <td>0</td>\n",
       "    </tr>\n",
       "    <tr>\n",
       "      <td>4</td>\n",
       "      <td>5</td>\n",
       "      <td>15737888</td>\n",
       "      <td>Mitchell</td>\n",
       "      <td>850</td>\n",
       "      <td>Spain</td>\n",
       "      <td>Female</td>\n",
       "      <td>43</td>\n",
       "      <td>2.0</td>\n",
       "      <td>125510.82</td>\n",
       "      <td>1</td>\n",
       "      <td>1</td>\n",
       "      <td>1</td>\n",
       "      <td>79084.10</td>\n",
       "      <td>0</td>\n",
       "    </tr>\n",
       "  </tbody>\n",
       "</table>\n",
       "</div>"
      ],
      "text/plain": [
       "   RowNumber  CustomerId   Surname  CreditScore Geography  Gender  Age  \\\n",
       "0          1    15634602  Hargrave          619    France  Female   42   \n",
       "1          2    15647311      Hill          608     Spain  Female   41   \n",
       "2          3    15619304      Onio          502    France  Female   42   \n",
       "3          4    15701354      Boni          699    France  Female   39   \n",
       "4          5    15737888  Mitchell          850     Spain  Female   43   \n",
       "\n",
       "   Tenure    Balance  NumOfProducts  HasCrCard  IsActiveMember  \\\n",
       "0     2.0       0.00              1          1               1   \n",
       "1     1.0   83807.86              1          0               1   \n",
       "2     8.0  159660.80              3          1               0   \n",
       "3     1.0       0.00              2          0               0   \n",
       "4     2.0  125510.82              1          1               1   \n",
       "\n",
       "   EstimatedSalary  Exited  \n",
       "0        101348.88       1  \n",
       "1        112542.58       0  \n",
       "2        113931.57       1  \n",
       "3         93826.63       0  \n",
       "4         79084.10       0  "
      ]
     },
     "metadata": {},
     "output_type": "display_data"
    },
    {
     "data": {
      "text/html": [
       "<div>\n",
       "<style scoped>\n",
       "    .dataframe tbody tr th:only-of-type {\n",
       "        vertical-align: middle;\n",
       "    }\n",
       "\n",
       "    .dataframe tbody tr th {\n",
       "        vertical-align: top;\n",
       "    }\n",
       "\n",
       "    .dataframe thead th {\n",
       "        text-align: right;\n",
       "    }\n",
       "</style>\n",
       "<table border=\"1\" class=\"dataframe\">\n",
       "  <thead>\n",
       "    <tr style=\"text-align: right;\">\n",
       "      <th></th>\n",
       "      <th>RowNumber</th>\n",
       "      <th>CustomerId</th>\n",
       "      <th>CreditScore</th>\n",
       "      <th>Age</th>\n",
       "      <th>Tenure</th>\n",
       "      <th>Balance</th>\n",
       "      <th>NumOfProducts</th>\n",
       "      <th>HasCrCard</th>\n",
       "      <th>IsActiveMember</th>\n",
       "      <th>EstimatedSalary</th>\n",
       "      <th>Exited</th>\n",
       "    </tr>\n",
       "  </thead>\n",
       "  <tbody>\n",
       "    <tr>\n",
       "      <td>count</td>\n",
       "      <td>10000.00000</td>\n",
       "      <td>1.000000e+04</td>\n",
       "      <td>10000.000000</td>\n",
       "      <td>10000.000000</td>\n",
       "      <td>9091.000000</td>\n",
       "      <td>10000.000000</td>\n",
       "      <td>10000.000000</td>\n",
       "      <td>10000.00000</td>\n",
       "      <td>10000.000000</td>\n",
       "      <td>10000.000000</td>\n",
       "      <td>10000.000000</td>\n",
       "    </tr>\n",
       "    <tr>\n",
       "      <td>mean</td>\n",
       "      <td>5000.50000</td>\n",
       "      <td>1.569094e+07</td>\n",
       "      <td>650.528800</td>\n",
       "      <td>38.921800</td>\n",
       "      <td>4.997690</td>\n",
       "      <td>76485.889288</td>\n",
       "      <td>1.530200</td>\n",
       "      <td>0.70550</td>\n",
       "      <td>0.515100</td>\n",
       "      <td>100090.239881</td>\n",
       "      <td>0.203700</td>\n",
       "    </tr>\n",
       "    <tr>\n",
       "      <td>std</td>\n",
       "      <td>2886.89568</td>\n",
       "      <td>7.193619e+04</td>\n",
       "      <td>96.653299</td>\n",
       "      <td>10.487806</td>\n",
       "      <td>2.894723</td>\n",
       "      <td>62397.405202</td>\n",
       "      <td>0.581654</td>\n",
       "      <td>0.45584</td>\n",
       "      <td>0.499797</td>\n",
       "      <td>57510.492818</td>\n",
       "      <td>0.402769</td>\n",
       "    </tr>\n",
       "    <tr>\n",
       "      <td>min</td>\n",
       "      <td>1.00000</td>\n",
       "      <td>1.556570e+07</td>\n",
       "      <td>350.000000</td>\n",
       "      <td>18.000000</td>\n",
       "      <td>0.000000</td>\n",
       "      <td>0.000000</td>\n",
       "      <td>1.000000</td>\n",
       "      <td>0.00000</td>\n",
       "      <td>0.000000</td>\n",
       "      <td>11.580000</td>\n",
       "      <td>0.000000</td>\n",
       "    </tr>\n",
       "    <tr>\n",
       "      <td>25%</td>\n",
       "      <td>2500.75000</td>\n",
       "      <td>1.562853e+07</td>\n",
       "      <td>584.000000</td>\n",
       "      <td>32.000000</td>\n",
       "      <td>2.000000</td>\n",
       "      <td>0.000000</td>\n",
       "      <td>1.000000</td>\n",
       "      <td>0.00000</td>\n",
       "      <td>0.000000</td>\n",
       "      <td>51002.110000</td>\n",
       "      <td>0.000000</td>\n",
       "    </tr>\n",
       "    <tr>\n",
       "      <td>50%</td>\n",
       "      <td>5000.50000</td>\n",
       "      <td>1.569074e+07</td>\n",
       "      <td>652.000000</td>\n",
       "      <td>37.000000</td>\n",
       "      <td>5.000000</td>\n",
       "      <td>97198.540000</td>\n",
       "      <td>1.000000</td>\n",
       "      <td>1.00000</td>\n",
       "      <td>1.000000</td>\n",
       "      <td>100193.915000</td>\n",
       "      <td>0.000000</td>\n",
       "    </tr>\n",
       "    <tr>\n",
       "      <td>75%</td>\n",
       "      <td>7500.25000</td>\n",
       "      <td>1.575323e+07</td>\n",
       "      <td>718.000000</td>\n",
       "      <td>44.000000</td>\n",
       "      <td>7.000000</td>\n",
       "      <td>127644.240000</td>\n",
       "      <td>2.000000</td>\n",
       "      <td>1.00000</td>\n",
       "      <td>1.000000</td>\n",
       "      <td>149388.247500</td>\n",
       "      <td>0.000000</td>\n",
       "    </tr>\n",
       "    <tr>\n",
       "      <td>max</td>\n",
       "      <td>10000.00000</td>\n",
       "      <td>1.581569e+07</td>\n",
       "      <td>850.000000</td>\n",
       "      <td>92.000000</td>\n",
       "      <td>10.000000</td>\n",
       "      <td>250898.090000</td>\n",
       "      <td>4.000000</td>\n",
       "      <td>1.00000</td>\n",
       "      <td>1.000000</td>\n",
       "      <td>199992.480000</td>\n",
       "      <td>1.000000</td>\n",
       "    </tr>\n",
       "  </tbody>\n",
       "</table>\n",
       "</div>"
      ],
      "text/plain": [
       "         RowNumber    CustomerId   CreditScore           Age       Tenure  \\\n",
       "count  10000.00000  1.000000e+04  10000.000000  10000.000000  9091.000000   \n",
       "mean    5000.50000  1.569094e+07    650.528800     38.921800     4.997690   \n",
       "std     2886.89568  7.193619e+04     96.653299     10.487806     2.894723   \n",
       "min        1.00000  1.556570e+07    350.000000     18.000000     0.000000   \n",
       "25%     2500.75000  1.562853e+07    584.000000     32.000000     2.000000   \n",
       "50%     5000.50000  1.569074e+07    652.000000     37.000000     5.000000   \n",
       "75%     7500.25000  1.575323e+07    718.000000     44.000000     7.000000   \n",
       "max    10000.00000  1.581569e+07    850.000000     92.000000    10.000000   \n",
       "\n",
       "             Balance  NumOfProducts    HasCrCard  IsActiveMember  \\\n",
       "count   10000.000000   10000.000000  10000.00000    10000.000000   \n",
       "mean    76485.889288       1.530200      0.70550        0.515100   \n",
       "std     62397.405202       0.581654      0.45584        0.499797   \n",
       "min         0.000000       1.000000      0.00000        0.000000   \n",
       "25%         0.000000       1.000000      0.00000        0.000000   \n",
       "50%     97198.540000       1.000000      1.00000        1.000000   \n",
       "75%    127644.240000       2.000000      1.00000        1.000000   \n",
       "max    250898.090000       4.000000      1.00000        1.000000   \n",
       "\n",
       "       EstimatedSalary        Exited  \n",
       "count     10000.000000  10000.000000  \n",
       "mean     100090.239881      0.203700  \n",
       "std       57510.492818      0.402769  \n",
       "min          11.580000      0.000000  \n",
       "25%       51002.110000      0.000000  \n",
       "50%      100193.915000      0.000000  \n",
       "75%      149388.247500      0.000000  \n",
       "max      199992.480000      1.000000  "
      ]
     },
     "metadata": {},
     "output_type": "display_data"
    }
   ],
   "source": [
    "data = pd.read_csv('/datasets/Churn.csv')\n",
    "print(data.info())\n",
    "display(data.head())\n",
    "display(data.describe())"
   ]
  },
  {
   "cell_type": "markdown",
   "metadata": {},
   "source": [
    "С данными, похоже, все в порядке, за исключением пропусков в столбце Tenure."
   ]
  },
  {
   "cell_type": "markdown",
   "metadata": {},
   "source": [
    "<div class=\"alert alert-block alert-success\">\n",
    "<b>Успех:</b> Данные загружены корректно, первичный осмото проведен.\n",
    "</div>"
   ]
  },
  {
   "cell_type": "code",
   "execution_count": 3,
   "metadata": {},
   "outputs": [
    {
     "name": "stdout",
     "output_type": "stream",
     "text": [
      "11\n",
      "1.0     952\n",
      "2.0     950\n",
      "8.0     933\n",
      "3.0     928\n",
      "5.0     927\n",
      "7.0     925\n",
      "4.0     885\n",
      "9.0     882\n",
      "6.0     881\n",
      "10.0    446\n",
      "0.0     382\n",
      "Name: Tenure, dtype: int64\n",
      "909\n"
     ]
    }
   ],
   "source": [
    "print(data['Tenure'].nunique())\n",
    "print(data['Tenure'].value_counts())\n",
    "print(data['Tenure'].isna().sum())"
   ]
  },
  {
   "cell_type": "code",
   "execution_count": 4,
   "metadata": {},
   "outputs": [
    {
     "data": {
      "text/plain": [
       "<matplotlib.axes._subplots.AxesSubplot at 0x7f3aca2b7a90>"
      ]
     },
     "execution_count": 4,
     "metadata": {},
     "output_type": "execute_result"
    },
    {
     "data": {
      "image/png": "[encoded data removed]",
      "text/plain": [
       "<Figure size 432x288 with 1 Axes>"
      ]
     },
     "metadata": {
      "needs_background": "light"
     },
     "output_type": "display_data"
    }
   ],
   "source": [
    "data['Tenure'].hist()"
   ]
  },
  {
   "cell_type": "markdown",
   "metadata": {},
   "source": [
    "При замене пропусков на медианные или средние значения сильно видоизменяется гистограмма, качество построенных ниже моделей ухудшается. Поэтому попробуем работать, отбросив строки с пропусками в столбце Tenure. (Можно попытаться заполнить пропуски с учетом вероятностей появления присутствующих значений, но как это сделать пока не знаю.)"
   ]
  },
  {
   "cell_type": "code",
   "execution_count": 5,
   "metadata": {},
   "outputs": [
    {
     "name": "stdout",
     "output_type": "stream",
     "text": [
      "0\n"
     ]
    }
   ],
   "source": [
    "#data['Tenure'] = data['Tenure'].fillna(data['Tenure'].mean())\n",
    "data = data.dropna(subset=['Tenure'])\n",
    "#print(data['Tenure'].nunique())\n",
    "#print(data['Tenure'].value_counts())\n",
    "print(data['Tenure'].isna().sum())"
   ]
  },
  {
   "cell_type": "code",
   "execution_count": 6,
   "metadata": {},
   "outputs": [],
   "source": [
    "#data['Tenure'].hist()"
   ]
  },
  {
   "cell_type": "code",
   "execution_count": 7,
   "metadata": {},
   "outputs": [],
   "source": [
    "#print(data['Tenure'].isna().sum())"
   ]
  },
  {
   "cell_type": "markdown",
   "metadata": {},
   "source": [
    "<div class=\"alert alert-block alert-success\">\n",
    "<b>Успех:</b> Обработать прпоуски таким образом – хорошая идея!\n",
    "</div>"
   ]
  },
  {
   "cell_type": "markdown",
   "metadata": {},
   "source": [
    "Используя технику прямого кодирования заменим категориальные данные числовыми."
   ]
  },
  {
   "cell_type": "code",
   "execution_count": 8,
   "metadata": {},
   "outputs": [
    {
     "data": {
      "text/html": [
       "<div>\n",
       "<style scoped>\n",
       "    .dataframe tbody tr th:only-of-type {\n",
       "        vertical-align: middle;\n",
       "    }\n",
       "\n",
       "    .dataframe tbody tr th {\n",
       "        vertical-align: top;\n",
       "    }\n",
       "\n",
       "    .dataframe thead th {\n",
       "        text-align: right;\n",
       "    }\n",
       "</style>\n",
       "<table border=\"1\" class=\"dataframe\">\n",
       "  <thead>\n",
       "    <tr style=\"text-align: right;\">\n",
       "      <th></th>\n",
       "      <th>CreditScore</th>\n",
       "      <th>Age</th>\n",
       "      <th>Tenure</th>\n",
       "      <th>Balance</th>\n",
       "      <th>NumOfProducts</th>\n",
       "      <th>HasCrCard</th>\n",
       "      <th>IsActiveMember</th>\n",
       "      <th>EstimatedSalary</th>\n",
       "      <th>Exited</th>\n",
       "      <th>Geography_Germany</th>\n",
       "      <th>Geography_Spain</th>\n",
       "      <th>Gender_Male</th>\n",
       "    </tr>\n",
       "  </thead>\n",
       "  <tbody>\n",
       "    <tr>\n",
       "      <td>0</td>\n",
       "      <td>619</td>\n",
       "      <td>42</td>\n",
       "      <td>2.0</td>\n",
       "      <td>0.00</td>\n",
       "      <td>1</td>\n",
       "      <td>1</td>\n",
       "      <td>1</td>\n",
       "      <td>101348.88</td>\n",
       "      <td>1</td>\n",
       "      <td>0</td>\n",
       "      <td>0</td>\n",
       "      <td>0</td>\n",
       "    </tr>\n",
       "    <tr>\n",
       "      <td>1</td>\n",
       "      <td>608</td>\n",
       "      <td>41</td>\n",
       "      <td>1.0</td>\n",
       "      <td>83807.86</td>\n",
       "      <td>1</td>\n",
       "      <td>0</td>\n",
       "      <td>1</td>\n",
       "      <td>112542.58</td>\n",
       "      <td>0</td>\n",
       "      <td>0</td>\n",
       "      <td>1</td>\n",
       "      <td>0</td>\n",
       "    </tr>\n",
       "    <tr>\n",
       "      <td>2</td>\n",
       "      <td>502</td>\n",
       "      <td>42</td>\n",
       "      <td>8.0</td>\n",
       "      <td>159660.80</td>\n",
       "      <td>3</td>\n",
       "      <td>1</td>\n",
       "      <td>0</td>\n",
       "      <td>113931.57</td>\n",
       "      <td>1</td>\n",
       "      <td>0</td>\n",
       "      <td>0</td>\n",
       "      <td>0</td>\n",
       "    </tr>\n",
       "    <tr>\n",
       "      <td>3</td>\n",
       "      <td>699</td>\n",
       "      <td>39</td>\n",
       "      <td>1.0</td>\n",
       "      <td>0.00</td>\n",
       "      <td>2</td>\n",
       "      <td>0</td>\n",
       "      <td>0</td>\n",
       "      <td>93826.63</td>\n",
       "      <td>0</td>\n",
       "      <td>0</td>\n",
       "      <td>0</td>\n",
       "      <td>0</td>\n",
       "    </tr>\n",
       "    <tr>\n",
       "      <td>4</td>\n",
       "      <td>850</td>\n",
       "      <td>43</td>\n",
       "      <td>2.0</td>\n",
       "      <td>125510.82</td>\n",
       "      <td>1</td>\n",
       "      <td>1</td>\n",
       "      <td>1</td>\n",
       "      <td>79084.10</td>\n",
       "      <td>0</td>\n",
       "      <td>0</td>\n",
       "      <td>1</td>\n",
       "      <td>0</td>\n",
       "    </tr>\n",
       "  </tbody>\n",
       "</table>\n",
       "</div>"
      ],
      "text/plain": [
       "   CreditScore  Age  Tenure    Balance  NumOfProducts  HasCrCard  \\\n",
       "0          619   42     2.0       0.00              1          1   \n",
       "1          608   41     1.0   83807.86              1          0   \n",
       "2          502   42     8.0  159660.80              3          1   \n",
       "3          699   39     1.0       0.00              2          0   \n",
       "4          850   43     2.0  125510.82              1          1   \n",
       "\n",
       "   IsActiveMember  EstimatedSalary  Exited  Geography_Germany  \\\n",
       "0               1        101348.88       1                  0   \n",
       "1               1        112542.58       0                  0   \n",
       "2               0        113931.57       1                  0   \n",
       "3               0         93826.63       0                  0   \n",
       "4               1         79084.10       0                  0   \n",
       "\n",
       "   Geography_Spain  Gender_Male  \n",
       "0                0            0  \n",
       "1                1            0  \n",
       "2                0            0  \n",
       "3                0            0  \n",
       "4                1            0  "
      ]
     },
     "metadata": {},
     "output_type": "display_data"
    },
    {
     "data": {
      "text/html": [
       "<div>\n",
       "<style scoped>\n",
       "    .dataframe tbody tr th:only-of-type {\n",
       "        vertical-align: middle;\n",
       "    }\n",
       "\n",
       "    .dataframe tbody tr th {\n",
       "        vertical-align: top;\n",
       "    }\n",
       "\n",
       "    .dataframe thead th {\n",
       "        text-align: right;\n",
       "    }\n",
       "</style>\n",
       "<table border=\"1\" class=\"dataframe\">\n",
       "  <thead>\n",
       "    <tr style=\"text-align: right;\">\n",
       "      <th></th>\n",
       "      <th>CreditScore</th>\n",
       "      <th>Age</th>\n",
       "      <th>Tenure</th>\n",
       "      <th>Balance</th>\n",
       "      <th>NumOfProducts</th>\n",
       "      <th>HasCrCard</th>\n",
       "      <th>IsActiveMember</th>\n",
       "      <th>EstimatedSalary</th>\n",
       "      <th>Geography_Germany</th>\n",
       "      <th>Geography_Spain</th>\n",
       "      <th>Gender_Male</th>\n",
       "    </tr>\n",
       "  </thead>\n",
       "  <tbody>\n",
       "    <tr>\n",
       "      <td>0</td>\n",
       "      <td>619</td>\n",
       "      <td>42</td>\n",
       "      <td>2.0</td>\n",
       "      <td>0.00</td>\n",
       "      <td>1</td>\n",
       "      <td>1</td>\n",
       "      <td>1</td>\n",
       "      <td>101348.88</td>\n",
       "      <td>0</td>\n",
       "      <td>0</td>\n",
       "      <td>0</td>\n",
       "    </tr>\n",
       "    <tr>\n",
       "      <td>1</td>\n",
       "      <td>608</td>\n",
       "      <td>41</td>\n",
       "      <td>1.0</td>\n",
       "      <td>83807.86</td>\n",
       "      <td>1</td>\n",
       "      <td>0</td>\n",
       "      <td>1</td>\n",
       "      <td>112542.58</td>\n",
       "      <td>0</td>\n",
       "      <td>1</td>\n",
       "      <td>0</td>\n",
       "    </tr>\n",
       "    <tr>\n",
       "      <td>2</td>\n",
       "      <td>502</td>\n",
       "      <td>42</td>\n",
       "      <td>8.0</td>\n",
       "      <td>159660.80</td>\n",
       "      <td>3</td>\n",
       "      <td>1</td>\n",
       "      <td>0</td>\n",
       "      <td>113931.57</td>\n",
       "      <td>0</td>\n",
       "      <td>0</td>\n",
       "      <td>0</td>\n",
       "    </tr>\n",
       "    <tr>\n",
       "      <td>3</td>\n",
       "      <td>699</td>\n",
       "      <td>39</td>\n",
       "      <td>1.0</td>\n",
       "      <td>0.00</td>\n",
       "      <td>2</td>\n",
       "      <td>0</td>\n",
       "      <td>0</td>\n",
       "      <td>93826.63</td>\n",
       "      <td>0</td>\n",
       "      <td>0</td>\n",
       "      <td>0</td>\n",
       "    </tr>\n",
       "    <tr>\n",
       "      <td>4</td>\n",
       "      <td>850</td>\n",
       "      <td>43</td>\n",
       "      <td>2.0</td>\n",
       "      <td>125510.82</td>\n",
       "      <td>1</td>\n",
       "      <td>1</td>\n",
       "      <td>1</td>\n",
       "      <td>79084.10</td>\n",
       "      <td>0</td>\n",
       "      <td>1</td>\n",
       "      <td>0</td>\n",
       "    </tr>\n",
       "  </tbody>\n",
       "</table>\n",
       "</div>"
      ],
      "text/plain": [
       "   CreditScore  Age  Tenure    Balance  NumOfProducts  HasCrCard  \\\n",
       "0          619   42     2.0       0.00              1          1   \n",
       "1          608   41     1.0   83807.86              1          0   \n",
       "2          502   42     8.0  159660.80              3          1   \n",
       "3          699   39     1.0       0.00              2          0   \n",
       "4          850   43     2.0  125510.82              1          1   \n",
       "\n",
       "   IsActiveMember  EstimatedSalary  Geography_Germany  Geography_Spain  \\\n",
       "0               1        101348.88                  0                0   \n",
       "1               1        112542.58                  0                1   \n",
       "2               0        113931.57                  0                0   \n",
       "3               0         93826.63                  0                0   \n",
       "4               1         79084.10                  0                1   \n",
       "\n",
       "   Gender_Male  \n",
       "0            0  \n",
       "1            0  \n",
       "2            0  \n",
       "3            0  \n",
       "4            0  "
      ]
     },
     "metadata": {},
     "output_type": "display_data"
    },
    {
     "data": {
      "text/plain": [
       "0    1\n",
       "1    0\n",
       "2    1\n",
       "3    0\n",
       "4    0\n",
       "Name: Exited, dtype: int64"
      ]
     },
     "metadata": {},
     "output_type": "display_data"
    }
   ],
   "source": [
    "cols = ['CreditScore', 'Geography', 'Gender', 'Age', 'Tenure', 'Balance', 'NumOfProducts', 'HasCrCard', 'IsActiveMember', 'EstimatedSalary', 'Exited']\n",
    "data = data[cols]\n",
    "data_ohe = pd.get_dummies(data, drop_first=True)\n",
    "display(data_ohe.head())\n",
    "features = data_ohe.drop('Exited', axis=1)\n",
    "target = data_ohe['Exited']\n",
    "display(features.head())\n",
    "display(target.head())"
   ]
  },
  {
   "cell_type": "markdown",
   "metadata": {},
   "source": [
    "Разобьем даные на тренировочную, валидационную и выборку для тестирования в пропорции 60-20-20."
   ]
  },
  {
   "cell_type": "markdown",
   "metadata": {},
   "source": [
    "<div class=\"alert alert-block alert-success\">\n",
    "<b>Успех:</b> Закодировать колонки таким образом – самое подходящее решение в данном случае!\n",
    "</div>"
   ]
  },
  {
   "cell_type": "code",
   "execution_count": 9,
   "metadata": {},
   "outputs": [
    {
     "name": "stdout",
     "output_type": "stream",
     "text": [
      "(5454, 11) (5454,) (1818, 11) (1818,) (1819, 11) (1819,)\n"
     ]
    }
   ],
   "source": [
    "#features_train, features_valid, target_train, target_valid = train_test_split(features, target, test_size=0.25, random_state=12345)\n",
    "features_train, features_double_valid, target_train, target_double_valid = train_test_split(\n",
    "    features, target, test_size=0.40, random_state=12345)\n",
    "features_valid, features_test, target_valid, target_test = train_test_split(\n",
    "    features_double_valid, target_double_valid, test_size=0.50, random_state=12345)\n",
    "print(features_train.shape, target_train.shape, features_valid.shape, target_valid.shape, features_test.shape, target_test.shape)"
   ]
  },
  {
   "cell_type": "markdown",
   "metadata": {},
   "source": [
    "<div class=\"alert alert-block alert-success\">\n",
    "<b>Успех:</b> Разбение было сделано верно. Радует, что ты сама себя проверяешь.\n",
    "</div>"
   ]
  },
  {
   "cell_type": "markdown",
   "metadata": {},
   "source": [
    "Проведем масштабирование необходимых для работы признаков с помощью StandartScaler."
   ]
  },
  {
   "cell_type": "code",
   "execution_count": 10,
   "metadata": {},
   "outputs": [
    {
     "name": "stdout",
     "output_type": "stream",
     "text": [
      "      CreditScore       Age    Tenure   Balance  NumOfProducts  HasCrCard  \\\n",
      "9344     0.809075 -1.039327 -1.025995  0.554904      -0.908179          1   \n",
      "3796    -1.152518 -1.227561  0.696524  0.480609      -0.908179          0   \n",
      "7462    -0.398853  0.090079  1.385532 -1.237830      -0.908179          1   \n",
      "1508    -0.749875 -0.286389  0.352020 -1.237830       0.809300          1   \n",
      "4478    -1.028628 -0.756975 -0.336987 -1.237830       0.809300          0   \n",
      "\n",
      "      IsActiveMember  EstimatedSalary  Geography_Germany  Geography_Spain  \\\n",
      "9344               0         0.019508                  0                0   \n",
      "3796               0         0.056167                  0                0   \n",
      "7462               1         0.848738                  0                0   \n",
      "1508               1        -0.894953                  0                0   \n",
      "4478               1        -1.284516                  0                0   \n",
      "\n",
      "      Gender_Male  \n",
      "9344            0  \n",
      "3796            1  \n",
      "7462            1  \n",
      "1508            1  \n",
      "4478            1  \n"
     ]
    }
   ],
   "source": [
    "numeric = ['CreditScore', 'Age', 'Tenure', 'Balance', 'NumOfProducts', 'EstimatedSalary']\n",
    "\n",
    "scaler = StandardScaler()\n",
    "scaler.fit(features_train[numeric])\n",
    "features_train[numeric] = scaler.transform(features_train[numeric])\n",
    "features_valid[numeric] = scaler.transform(features_valid[numeric])\n",
    "\n",
    "features_test[numeric] = scaler.transform(features_test[numeric])\n",
    "\n",
    "print(features_train.head())"
   ]
  },
  {
   "cell_type": "markdown",
   "metadata": {},
   "source": [
    "<div class=\"alert alert-block alert-success\">\n",
    "<b>Успех:</b> Отлично, что scaler был обучен только на тренировочной части данных. Это уменьшает переобучение.\n",
    "</div>"
   ]
  },
  {
   "cell_type": "markdown",
   "metadata": {},
   "source": [
    "## Исследование задачи"
   ]
  },
  {
   "cell_type": "markdown",
   "metadata": {},
   "source": [
    "Обучим модели без учета баланса данных."
   ]
  },
  {
   "cell_type": "code",
   "execution_count": 11,
   "metadata": {},
   "outputs": [
    {
     "data": {
      "text/plain": [
       "LogisticRegression(C=1.0, class_weight=None, dual=False, fit_intercept=True,\n",
       "                   intercept_scaling=1, l1_ratio=None, max_iter=100,\n",
       "                   multi_class='warn', n_jobs=None, penalty='l2',\n",
       "                   random_state=12345, solver='liblinear', tol=0.0001,\n",
       "                   verbose=0, warm_start=False)"
      ]
     },
     "execution_count": 11,
     "metadata": {},
     "output_type": "execute_result"
    }
   ],
   "source": [
    "# Логистическая регрессия\n",
    "\n",
    "model_1 = LogisticRegression(solver='liblinear', random_state=12345)\n",
    "model_1.fit(features_train, target_train)"
   ]
  },
  {
   "cell_type": "code",
   "execution_count": 12,
   "metadata": {},
   "outputs": [],
   "source": [
    "predicted_valid = model_1.predict(features_valid)"
   ]
  },
  {
   "cell_type": "code",
   "execution_count": 13,
   "metadata": {},
   "outputs": [
    {
     "name": "stdout",
     "output_type": "stream",
     "text": [
      "0.7736191158144302\n"
     ]
    },
    {
     "data": {
      "text/plain": [
       "0.30400000000000005"
      ]
     },
     "execution_count": 13,
     "metadata": {},
     "output_type": "execute_result"
    }
   ],
   "source": [
    "probabilities_valid = model_1.predict_proba(features_valid)\n",
    "probabilities_one_valid = probabilities_valid[:, 1]\n",
    "auc_roc = roc_auc_score(target_valid, probabilities_one_valid)\n",
    "print(auc_roc)\n",
    "\n",
    "f1_score(target_valid, predicted_valid)"
   ]
  },
  {
   "cell_type": "code",
   "execution_count": 14,
   "metadata": {},
   "outputs": [
    {
     "name": "stderr",
     "output_type": "stream",
     "text": [
      "/opt/conda/lib/python3.7/site-packages/sklearn/metrics/classification.py:1437: UndefinedMetricWarning: F-score is ill-defined and being set to 0.0 due to no predicted samples.\n",
      "  'precision', 'predicted', average, warn_for)\n"
     ]
    },
    {
     "name": "stdout",
     "output_type": "stream",
     "text": [
      "0.8346049843812412\n",
      "Решающее дерево: f1 лучшей модели : 0.5764331210191083\n",
      "DecisionTreeClassifier(class_weight=None, criterion='gini', max_depth=7,\n",
      "                       max_features=None, max_leaf_nodes=None,\n",
      "                       min_impurity_decrease=0.0, min_impurity_split=None,\n",
      "                       min_samples_leaf=1, min_samples_split=2,\n",
      "                       min_weight_fraction_leaf=0.0, presort=False,\n",
      "                       random_state=12345, splitter='best')\n"
     ]
    }
   ],
   "source": [
    "# Решающее дерево\n",
    "\n",
    "model_2 = None\n",
    "best_result = 0\n",
    "for depth in range(1, 15):\n",
    "    model = DecisionTreeClassifier(random_state=12345, max_depth=depth) \n",
    "    model.fit(features_train, target_train) \n",
    "    predictions = model.predict(features_valid) \n",
    "    result = f1_score(target_valid, predictions) #accuracy_score(target_valid, predictions) \n",
    "    if result > best_result:\n",
    "        model_2 = model\n",
    "        best_result = result\n",
    "\n",
    "probabilities_valid = model_2.predict_proba(features_valid)\n",
    "probabilities_one_valid = probabilities_valid[:, 1]\n",
    "auc_roc = roc_auc_score(target_valid, probabilities_one_valid)\n",
    "print(auc_roc)        \n",
    "        \n",
    "print(\"Решающее дерево: f1 лучшей модели :\", best_result)\n",
    "print(model_2)"
   ]
  },
  {
   "cell_type": "markdown",
   "metadata": {},
   "source": [
    "При расчете метрики f1-score видим предупреждение, данную модель нельзя использовать без учета баланса данных."
   ]
  },
  {
   "cell_type": "code",
   "execution_count": 15,
   "metadata": {},
   "outputs": [
    {
     "name": "stdout",
     "output_type": "stream",
     "text": [
      "0.8378704738273045\n",
      "Случайный лес: f1 наилучшей модели на валидационной выборке: 0.60625\n",
      "RandomForestClassifier(bootstrap=True, class_weight=None, criterion='gini',\n",
      "                       max_depth=None, max_features='auto', max_leaf_nodes=None,\n",
      "                       min_impurity_decrease=0.0, min_impurity_split=None,\n",
      "                       min_samples_leaf=1, min_samples_split=2,\n",
      "                       min_weight_fraction_leaf=0.0, n_estimators=13,\n",
      "                       n_jobs=None, oob_score=False, random_state=12345,\n",
      "                       verbose=0, warm_start=False)\n"
     ]
    }
   ],
   "source": [
    "# Случайный лес\n",
    "\n",
    "model_3 = None\n",
    "best_result = 0\n",
    "for est in range(1, 100):\n",
    "    #for depth in range(1,15):\n",
    "        model = RandomForestClassifier(random_state=12345, n_estimators=est) #, max_depth=depth) \n",
    "        model.fit(features_train, target_train) \n",
    "        predictions = model.predict(features_valid)\n",
    "        result = f1_score(target_valid, predictions) #model.score(features_valid, target_valid) \n",
    "        if result > best_result:\n",
    "            model_3 = model \n",
    "            best_result = result \n",
    "\n",
    "probabilities_valid = model_3.predict_proba(features_valid)\n",
    "probabilities_one_valid = probabilities_valid[:, 1]\n",
    "auc_roc = roc_auc_score(target_valid, probabilities_one_valid)\n",
    "print(auc_roc)            \n",
    "            \n",
    "print(\"Случайный лес: f1 наилучшей модели на валидационной выборке:\", best_result)\n",
    "print(model_3)"
   ]
  },
  {
   "cell_type": "markdown",
   "metadata": {},
   "source": [
    "Наилучший результат показывает модель случайного леса, даже при дисбалансе данных, но посмотрим, улучшится ли результат, если сначала провести балансировку."
   ]
  },
  {
   "cell_type": "markdown",
   "metadata": {},
   "source": [
    "<div class=\"alert alert-block alert-success\">\n",
    "<b>Успех:</b> Этот шаг был сделан отлично! Молодец, что уже тут подобрала параметры!\n",
    "</div>"
   ]
  },
  {
   "cell_type": "markdown",
   "metadata": {},
   "source": [
    "## Борьба с дисбалансом"
   ]
  },
  {
   "cell_type": "markdown",
   "metadata": {},
   "source": [
    "Посмотрим какого отношение числа ушедших клиентам к оставшимся."
   ]
  },
  {
   "cell_type": "code",
   "execution_count": 16,
   "metadata": {},
   "outputs": [
    {
     "name": "stdout",
     "output_type": "stream",
     "text": [
      "3\n"
     ]
    }
   ],
   "source": [
    "ratio = len(data.loc[data['Exited'] == 0]) // len(data.loc[data['Exited'] == 1])\n",
    "print(ratio)"
   ]
  },
  {
   "cell_type": "markdown",
   "metadata": {},
   "source": [
    "В случае незначительного дисбаланса можно использовать модель логистической регрессии, но это не наш случай, f1-score меньше 0.59."
   ]
  },
  {
   "cell_type": "code",
   "execution_count": 17,
   "metadata": {},
   "outputs": [
    {
     "name": "stdout",
     "output_type": "stream",
     "text": [
      "0.7777884132187896\n"
     ]
    },
    {
     "data": {
      "text/plain": [
       "0.509731232622799"
      ]
     },
     "execution_count": 17,
     "metadata": {},
     "output_type": "execute_result"
    }
   ],
   "source": [
    "model_4 = LogisticRegression(solver='liblinear', random_state=12345, class_weight='balanced')\n",
    "model_4.fit(features_train, target_train)\n",
    "\n",
    "predicted_valid = model_4.predict(features_valid)\n",
    "\n",
    "probabilities_valid = model_4.predict_proba(features_valid)\n",
    "probabilities_one_valid = probabilities_valid[:, 1]\n",
    "auc_roc = roc_auc_score(target_valid, probabilities_one_valid)\n",
    "print(auc_roc)\n",
    "\n",
    "f1_score(target_valid, predicted_valid)"
   ]
  },
  {
   "cell_type": "markdown",
   "metadata": {},
   "source": [
    "Проведем процедуру балансировки, используя upsampling."
   ]
  },
  {
   "cell_type": "code",
   "execution_count": 18,
   "metadata": {},
   "outputs": [
    {
     "name": "stdout",
     "output_type": "stream",
     "text": [
      "(7706, 11)\n",
      "(7706,)\n"
     ]
    }
   ],
   "source": [
    "#upsampling\n",
    "def upsample(features, target, repeat):\n",
    "    features_zeros = features[target == 0]\n",
    "    features_ones = features[target == 1]\n",
    "    target_zeros = target[target == 0]\n",
    "    target_ones = target[target == 1]\n",
    "    #repeat = 10\n",
    "    features_upsampled = pd.concat([features_zeros] + [features_ones] * repeat)\n",
    "    target_upsampled = pd.concat([target_zeros] + [target_ones] * repeat)\n",
    "    features_upsampled = shuffle(features_upsampled, random_state=12345)\n",
    "    target_upsampled = shuffle(target_upsampled, random_state=12345)\n",
    "    return features_upsampled, target_upsampled\n",
    "\n",
    "features_upsampled, target_upsampled = upsample(features_train, target_train, ratio)\n",
    "\n",
    "print(features_upsampled.shape)\n",
    "print(target_upsampled.shape)"
   ]
  },
  {
   "cell_type": "code",
   "execution_count": 19,
   "metadata": {},
   "outputs": [
    {
     "name": "stdout",
     "output_type": "stream",
     "text": [
      "0.7773576778578094\n",
      "F1: 0.5055679287305122\n",
      "LogisticRegression(C=1.0, class_weight=None, dual=False, fit_intercept=True,\n",
      "                   intercept_scaling=1, l1_ratio=None, max_iter=100,\n",
      "                   multi_class='warn', n_jobs=None, penalty='l2',\n",
      "                   random_state=12345, solver='liblinear', tol=0.0001,\n",
      "                   verbose=0, warm_start=False)\n"
     ]
    }
   ],
   "source": [
    "# Логистическая регрессия\n",
    "\n",
    "model_5 = LogisticRegression(random_state=12345, solver='liblinear')\n",
    "model_5.fit(features_upsampled, target_upsampled)\n",
    "predicted_valid = model_5.predict(features_valid)\n",
    "\n",
    "probabilities_valid = model_5.predict_proba(features_valid)\n",
    "probabilities_one_valid = probabilities_valid[:, 1]\n",
    "auc_roc = roc_auc_score(target_valid, probabilities_one_valid)\n",
    "print(auc_roc)\n",
    "\n",
    "print(\"F1:\", f1_score(target_valid, predicted_valid))\n",
    "print(model_5)"
   ]
  },
  {
   "cell_type": "code",
   "execution_count": 20,
   "metadata": {},
   "outputs": [
    {
     "name": "stdout",
     "output_type": "stream",
     "text": [
      "0.8400158672598789\n",
      "Решающее дерево: f1 лучшей модели : 0.5929526123936817\n",
      "DecisionTreeClassifier(class_weight=None, criterion='gini', max_depth=5,\n",
      "                       max_features=None, max_leaf_nodes=None,\n",
      "                       min_impurity_decrease=0.0, min_impurity_split=None,\n",
      "                       min_samples_leaf=1, min_samples_split=2,\n",
      "                       min_weight_fraction_leaf=0.0, presort=False,\n",
      "                       random_state=12345, splitter='best')\n"
     ]
    }
   ],
   "source": [
    "# Решающее дерево\n",
    "\n",
    "model_6 = None\n",
    "best_result = 0\n",
    "for depth in range(1, 15):\n",
    "    model = DecisionTreeClassifier(random_state=12345, max_depth=depth) \n",
    "    model.fit(features_upsampled, target_upsampled) \n",
    "    predictions = model.predict(features_valid) \n",
    "    result = f1_score(target_valid, predictions) #accuracy_score(target_valid, predictions) \n",
    "    if result > best_result:\n",
    "        model_6 = model\n",
    "        best_result = result\n",
    "        \n",
    "probabilities_valid = model_6.predict_proba(features_valid)\n",
    "probabilities_one_valid = probabilities_valid[:, 1]\n",
    "auc_roc = roc_auc_score(target_valid, probabilities_one_valid)\n",
    "print(auc_roc)  \n",
    "\n",
    "print(\"Решающее дерево: f1 лучшей модели :\", best_result)\n",
    "print(model_6)"
   ]
  },
  {
   "cell_type": "code",
   "execution_count": 21,
   "metadata": {},
   "outputs": [
    {
     "name": "stdout",
     "output_type": "stream",
     "text": [
      "0.8716114104374173\n",
      "Случайный лес: f1 наилучшей модели на валидационной выборке: 0.6521181001283697\n",
      "RandomForestClassifier(bootstrap=True, class_weight=None, criterion='gini',\n",
      "                       max_depth=9, max_features='auto', max_leaf_nodes=None,\n",
      "                       min_impurity_decrease=0.0, min_impurity_split=None,\n",
      "                       min_samples_leaf=1, min_samples_split=2,\n",
      "                       min_weight_fraction_leaf=0.0, n_estimators=64,\n",
      "                       n_jobs=None, oob_score=False, random_state=12345,\n",
      "                       verbose=0, warm_start=False)\n"
     ]
    }
   ],
   "source": [
    "# Случайный лес\n",
    "\n",
    "model_7 = None\n",
    "best_result = 0\n",
    "for est in range(1, 70):\n",
    "    for depth in range(1,10):\n",
    "        model = RandomForestClassifier(random_state=12345, n_estimators=est, max_depth=depth) \n",
    "        model.fit(features_upsampled, target_upsampled) \n",
    "        predictions = model.predict(features_valid)\n",
    "        result = f1_score(target_valid, predictions) #model.score(features_valid, target_valid) \n",
    "        if result > best_result:\n",
    "            model_7 = model \n",
    "            best_result = result \n",
    "            \n",
    "        \n",
    "probabilities_valid = model_7.predict_proba(features_valid)\n",
    "probabilities_one_valid = probabilities_valid[:, 1]\n",
    "auc_roc = roc_auc_score(target_valid, probabilities_one_valid)\n",
    "print(auc_roc)\n",
    "\n",
    "print(\"Случайный лес: f1 наилучшей модели на валидационной выборке:\", best_result)\n",
    "print(model_7)"
   ]
  },
  {
   "cell_type": "markdown",
   "metadata": {},
   "source": [
    "<div class=\"alert alert-block alert-success\">\n",
    "<b>Успех:</b> Хорошо, что параметр repeat был выбран исходя из данных, а параметры подобраны заново.\n",
    "</div>"
   ]
  },
  {
   "cell_type": "markdown",
   "metadata": {},
   "source": [
    "Теперь повторим процедуру балансировки, но используем downsampling. Посчитаем отношение числа оставшихся к ушедшим клиентам."
   ]
  },
  {
   "cell_type": "code",
   "execution_count": 22,
   "metadata": {},
   "outputs": [
    {
     "name": "stdout",
     "output_type": "stream",
     "text": [
      "0.2561835014508774\n"
     ]
    }
   ],
   "source": [
    "ratio = len(data.loc[data['Exited'] == 1]) / len(data.loc[data['Exited'] == 0])\n",
    "print(ratio)"
   ]
  },
  {
   "cell_type": "code",
   "execution_count": 23,
   "metadata": {},
   "outputs": [
    {
     "name": "stdout",
     "output_type": "stream",
     "text": [
      "(2235, 11)\n",
      "(2235,)\n"
     ]
    }
   ],
   "source": [
    "def downsample(features, target, fraction):\n",
    "    features_zeros = features[target == 0]\n",
    "    features_ones = features[target == 1]\n",
    "    target_zeros = target[target == 0]\n",
    "    target_ones = target[target == 1]\n",
    "\n",
    "    features_downsampled = pd.concat(\n",
    "        [features_zeros.sample(frac=fraction, random_state=12345)] + [features_ones])\n",
    "    target_downsampled = pd.concat(\n",
    "        [target_zeros.sample(frac=fraction, random_state=12345)] + [target_ones])\n",
    "    \n",
    "    features_downsampled, target_downsampled = shuffle(\n",
    "        features_downsampled, target_downsampled, random_state=12345)\n",
    "    \n",
    "    return features_downsampled, target_downsampled\n",
    "\n",
    "features_downsampled, target_downsampled = downsample(features_train, target_train, ratio)\n",
    "print(features_downsampled.shape)\n",
    "print(target_downsampled.shape)"
   ]
  },
  {
   "cell_type": "code",
   "execution_count": 24,
   "metadata": {},
   "outputs": [
    {
     "name": "stdout",
     "output_type": "stream",
     "text": [
      "0.7757138886383425\n",
      "F1: 0.5040797824116047\n"
     ]
    }
   ],
   "source": [
    "# Логистическая регрессия\n",
    "\n",
    "model_8 = LogisticRegression(random_state=12345, solver='liblinear')\n",
    "model_8.fit(features_downsampled, target_downsampled)\n",
    "predicted_valid = model_8.predict(features_valid)\n",
    "\n",
    "probabilities_valid = model_8.predict_proba(features_valid)\n",
    "probabilities_one_valid = probabilities_valid[:, 1]\n",
    "auc_roc = roc_auc_score(target_valid, probabilities_one_valid)\n",
    "print(auc_roc)\n",
    "\n",
    "print(\"F1:\", f1_score(target_valid, predicted_valid))\n"
   ]
  },
  {
   "cell_type": "code",
   "execution_count": 25,
   "metadata": {},
   "outputs": [
    {
     "name": "stdout",
     "output_type": "stream",
     "text": [
      "0.8304356869768821\n",
      "Решающее дерево: f1 лучшей модели : 0.5725490196078432\n",
      "DecisionTreeClassifier(class_weight=None, criterion='gini', max_depth=5,\n",
      "                       max_features=None, max_leaf_nodes=None,\n",
      "                       min_impurity_decrease=0.0, min_impurity_split=None,\n",
      "                       min_samples_leaf=1, min_samples_split=2,\n",
      "                       min_weight_fraction_leaf=0.0, presort=False,\n",
      "                       random_state=12345, splitter='best')\n"
     ]
    }
   ],
   "source": [
    "# Решающее дерево\n",
    "\n",
    "model_9 = None\n",
    "best_result = 0\n",
    "for depth in range(1, 15):\n",
    "    model = DecisionTreeClassifier(random_state=12345, max_depth=depth) \n",
    "    model.fit(features_downsampled, target_downsampled) \n",
    "    predictions = model.predict(features_valid) \n",
    "    result = f1_score(target_valid, predictions) #accuracy_score(target_valid, predictions) \n",
    "    if result > best_result:\n",
    "        model_9 = model\n",
    "        best_result = result\n",
    "\n",
    "probabilities_valid = model_9.predict_proba(features_valid)\n",
    "probabilities_one_valid = probabilities_valid[:, 1]\n",
    "auc_roc = roc_auc_score(target_valid, probabilities_one_valid)\n",
    "print(auc_roc)        \n",
    "        \n",
    "print(\"Решающее дерево: f1 лучшей модели :\", best_result)\n",
    "print(model_9)"
   ]
  },
  {
   "cell_type": "code",
   "execution_count": 26,
   "metadata": {},
   "outputs": [
    {
     "name": "stdout",
     "output_type": "stream",
     "text": [
      "0.8672396305984091\n",
      "Случайный лес: f1 наилучшей модели на валидационной выборке: 0.606361829025845\n",
      "RandomForestClassifier(bootstrap=True, class_weight=None, criterion='gini',\n",
      "                       max_depth=10, max_features='auto', max_leaf_nodes=None,\n",
      "                       min_impurity_decrease=0.0, min_impurity_split=None,\n",
      "                       min_samples_leaf=1, min_samples_split=2,\n",
      "                       min_weight_fraction_leaf=0.0, n_estimators=90,\n",
      "                       n_jobs=None, oob_score=False, random_state=12345,\n",
      "                       verbose=0, warm_start=False)\n"
     ]
    }
   ],
   "source": [
    "# Случайный лес\n",
    "\n",
    "model_10 = None\n",
    "best_result = 0\n",
    "for est in range(1, 100):\n",
    "    for depth in range(1,15):\n",
    "        model = RandomForestClassifier(random_state=12345, n_estimators=est, max_depth=depth) \n",
    "        model.fit(features_downsampled, target_downsampled) \n",
    "        predictions = model.predict(features_valid)\n",
    "        result = f1_score(target_valid, predictions) #model.score(features_valid, target_valid) \n",
    "        if result > best_result:\n",
    "            model_10 = model \n",
    "            best_result = result \n",
    "\n",
    "probabilities_valid = model_10.predict_proba(features_valid)\n",
    "probabilities_one_valid = probabilities_valid[:, 1]\n",
    "auc_roc = roc_auc_score(target_valid, probabilities_one_valid)\n",
    "print(auc_roc)        \n",
    "        \n",
    "print(\"Случайный лес: f1 наилучшей модели на валидационной выборке:\", best_result)\n",
    "print(model_10)"
   ]
  },
  {
   "cell_type": "markdown",
   "metadata": {},
   "source": [
    "Наилучший результат показал upsampling и 7я модель - случайный лес."
   ]
  },
  {
   "cell_type": "markdown",
   "metadata": {},
   "source": [
    "<div class=\"alert alert-block alert-success\">\n",
    "<b>Успех:</b> Этот шаг был сделан восхитительно!\n",
    "</div>"
   ]
  },
  {
   "cell_type": "markdown",
   "metadata": {},
   "source": [
    "## Тестирование модели"
   ]
  },
  {
   "cell_type": "markdown",
   "metadata": {},
   "source": [
    "Протестируем нашу лучшую модель на тестовой выборке."
   ]
  },
  {
   "cell_type": "code",
   "execution_count": 27,
   "metadata": {},
   "outputs": [
    {
     "name": "stdout",
     "output_type": "stream",
     "text": [
      "0.8612372590574225\n",
      "0.6111111111111112\n"
     ]
    }
   ],
   "source": [
    "probabilities_test = model_7.predict_proba(features_test)\n",
    "probabilities_one_test = probabilities_test[:, 1]\n",
    "auc_roc = roc_auc_score(target_test, probabilities_one_test)\n",
    "print(auc_roc)\n",
    "\n",
    "predictions = model_7.predict(features_test)\n",
    "\n",
    "print(f1_score(target_test, predictions))"
   ]
  },
  {
   "cell_type": "markdown",
   "metadata": {},
   "source": [
    "<div class=\"alert alert-block alert-success\">\n",
    "<b>Успех:</b> Тестирование было сделано абсолютно верно!\n",
    "</div>\n",
    "\n",
    "\n",
    "<div class=\"alert alert-block alert-info\">\n",
    "<b>Совет: </b> Можно было визуализировать ROC-кривую.\n",
    "</div>\n",
    "\n",
    "<div class=\"alert alert-block alert-danger\">\n",
    "<b>Ошибка:</b> Не забывай про общий вывод в конце проекта.\n",
    "</div>"
   ]
  },
  {
   "cell_type": "markdown",
   "metadata": {},
   "source": [
    "Значения f1-score и auc_roc_score удовлетворительные."
   ]
  },
  {
   "cell_type": "code",
   "execution_count": 28,
   "metadata": {},
   "outputs": [
    {
     "data": {
      "image/png": "[encoded data removed]",
      "text/plain": [
       "<Figure size 432x288 with 1 Axes>"
      ]
     },
     "metadata": {
      "needs_background": "light"
     },
     "output_type": "display_data"
    }
   ],
   "source": [
    "fpr, tpr, thresholds = roc_curve(target_test, probabilities_one_test) \n",
    "plt.figure()\n",
    "plt.plot(fpr, tpr)\n",
    "# ROC-кривая случайной модели (прямая)\n",
    "plt.plot([0, 1], [0, 1], linestyle='--')\n",
    "\n",
    "plt.xlim([0.0,1.0])\n",
    "plt.ylim([0.0,1.0])\n",
    "\n",
    "plt.xlabel('False Positive Rate')\n",
    "plt.ylabel('True Positive Rate')\n",
    "\n",
    "plt.title('ROC-кривая')\n",
    "\n",
    "plt.show()"
   ]
  },
  {
   "cell_type": "markdown",
   "metadata": {},
   "source": [
    "Таким образом в ходе исследования удалось выбрать и обучить модель Случайного леса, которая при тестировании на валидационной и тестовой выборках показывает значения f1-меры равное 0.65 и 0.61, что больше 0.59 - необходимого условия задачи.\n",
    "* Параметры модели:\n",
    "        RandomForestClassifier(bootstrap=True, class_weight=None, criterion=\"gini\",\n",
    "                       max_depth=9, max_features='auto', max_leaf_nodes=None,\n",
    "                       min_impurity_decrease=0.0, min_impurity_split=None,\n",
    "                       min_samples_leaf=1, min_samples_split=2,\n",
    "                       min_weight_fraction_leaf=0.0, n_estimators=64,\n",
    "                       n_jobs=None, oob_score=False, random_state=12345,\n",
    "                       verbose=0, warm_start=False).\n"
   ]
  },
  {
   "cell_type": "markdown",
   "metadata": {},
   "source": [
    "## Чек-лист готовности проекта"
   ]
  },
  {
   "cell_type": "markdown",
   "metadata": {},
   "source": [
    "Поставьте 'x' в выполненных пунктах. Далее нажмите Shift+Enter."
   ]
  },
  {
   "cell_type": "markdown",
   "metadata": {},
   "source": [
    "- [x]  Jupyter Notebook открыт\n",
    "- [x]  Весь код выполняется без ошибок\n",
    "- [x]  Ячейки с кодом расположены в порядке исполнения\n",
    "- [x]  Выполнен шаг 1: данные подготовлены\n",
    "- [x]  Выполнен шаг 2: задача исследована\n",
    "    - [x]  Исследован баланс классов\n",
    "    - [x]  Изучены модели без учёта дисбаланса\n",
    "    - [x]  Написаны выводы по результатам исследования\n",
    "- [x]  Выполнен шаг 3: учтён дисбаланс\n",
    "    - [x]  Применено несколько способов борьбы с дисбалансом\n",
    "    - [x]  Написаны выводы по результатам исследования\n",
    "- [x]  Выполнен шаг 4: проведено тестирование\n",
    "- [x]  Удалось достичь *F1*-меры не менее 0.59\n",
    "- [x]  Исследована метрика *AUC-ROC*"
   ]
  },
  {
   "cell_type": "code",
   "execution_count": null,
   "metadata": {},
   "outputs": [],
   "source": []
  },
  {
   "cell_type": "code",
   "execution_count": null,
   "metadata": {},
   "outputs": [],
   "source": []
  }
 ],
 "metadata": {
  "ExecuteTimeLog": [
   {
    "duration": 413,
    "start_time": "2021-11-01T17:45:56.418Z"
   },
   {
    "duration": 643,
    "start_time": "2021-11-01T17:46:00.536Z"
   },
   {
    "duration": 37,
    "start_time": "2021-11-01T17:46:03.131Z"
   },
   {
    "duration": 38,
    "start_time": "2021-11-01T17:46:37.636Z"
   },
   {
    "duration": 46,
    "start_time": "2021-11-01T17:47:20.039Z"
   },
   {
    "duration": 76,
    "start_time": "2021-11-01T17:59:25.433Z"
   },
   {
    "duration": 579,
    "start_time": "2021-11-01T18:33:17.719Z"
   },
   {
    "duration": 558,
    "start_time": "2021-11-01T18:38:14.402Z"
   },
   {
    "duration": 544,
    "start_time": "2021-11-01T18:40:41.021Z"
   },
   {
    "duration": 354,
    "start_time": "2021-11-01T18:45:14.375Z"
   },
   {
    "duration": 2,
    "start_time": "2021-11-01T18:45:32.683Z"
   },
   {
    "duration": 84,
    "start_time": "2021-11-01T18:45:32.687Z"
   },
   {
    "duration": 357,
    "start_time": "2021-11-01T18:45:34.626Z"
   },
   {
    "duration": 221,
    "start_time": "2021-11-01T18:47:15.055Z"
   },
   {
    "duration": 36,
    "start_time": "2021-11-01T18:49:03.646Z"
   },
   {
    "duration": 481,
    "start_time": "2021-11-01T19:44:33.832Z"
   },
   {
    "duration": 82,
    "start_time": "2021-11-01T19:44:34.315Z"
   },
   {
    "duration": 32,
    "start_time": "2021-11-01T19:44:34.399Z"
   },
   {
    "duration": 5,
    "start_time": "2021-11-01T19:44:34.433Z"
   },
   {
    "duration": 7,
    "start_time": "2021-11-01T19:44:38.232Z"
   },
   {
    "duration": 30,
    "start_time": "2021-11-01T19:44:40.118Z"
   },
   {
    "duration": 1326,
    "start_time": "2021-11-03T08:34:16.307Z"
   },
   {
    "duration": 107,
    "start_time": "2021-11-03T08:34:17.635Z"
   },
   {
    "duration": 30,
    "start_time": "2021-11-03T08:34:17.744Z"
   },
   {
    "duration": 5,
    "start_time": "2021-11-03T08:34:17.792Z"
   },
   {
    "duration": 26,
    "start_time": "2021-11-03T08:34:17.799Z"
   },
   {
    "duration": 262,
    "start_time": "2021-11-03T08:34:17.827Z"
   },
   {
    "duration": -433,
    "start_time": "2021-11-03T08:34:18.524Z"
   },
   {
    "duration": -434,
    "start_time": "2021-11-03T08:34:18.527Z"
   },
   {
    "duration": 6,
    "start_time": "2021-11-03T08:36:14.630Z"
   },
   {
    "duration": 177,
    "start_time": "2021-11-03T08:36:41.094Z"
   },
   {
    "duration": 5,
    "start_time": "2021-11-03T08:36:50.023Z"
   },
   {
    "duration": 20,
    "start_time": "2021-11-03T08:38:02.109Z"
   },
   {
    "duration": 4,
    "start_time": "2021-11-03T10:01:31.143Z"
   },
   {
    "duration": 11,
    "start_time": "2021-11-03T10:02:20.324Z"
   },
   {
    "duration": 3351,
    "start_time": "2021-11-03T10:06:42.741Z"
   },
   {
    "duration": 9,
    "start_time": "2021-11-03T10:07:13.897Z"
   },
   {
    "duration": 6,
    "start_time": "2021-11-03T10:07:35.299Z"
   },
   {
    "duration": 7,
    "start_time": "2021-11-03T10:08:49.438Z"
   },
   {
    "duration": 6,
    "start_time": "2021-11-03T10:09:21.019Z"
   },
   {
    "duration": 4,
    "start_time": "2021-11-03T10:09:27.716Z"
   },
   {
    "duration": 4,
    "start_time": "2021-11-03T10:12:37.871Z"
   },
   {
    "duration": 4,
    "start_time": "2021-11-03T10:14:34.281Z"
   },
   {
    "duration": 3,
    "start_time": "2021-11-03T10:14:51.233Z"
   },
   {
    "duration": 82,
    "start_time": "2021-11-03T10:14:51.238Z"
   },
   {
    "duration": 4,
    "start_time": "2021-11-03T10:14:51.322Z"
   },
   {
    "duration": 8,
    "start_time": "2021-11-03T10:14:51.328Z"
   },
   {
    "duration": 8,
    "start_time": "2021-11-03T10:14:51.338Z"
   },
   {
    "duration": 50,
    "start_time": "2021-11-03T10:14:51.348Z"
   },
   {
    "duration": 5,
    "start_time": "2021-11-03T10:14:51.401Z"
   },
   {
    "duration": 33,
    "start_time": "2021-11-03T10:14:51.408Z"
   },
   {
    "duration": 20,
    "start_time": "2021-11-03T10:14:51.442Z"
   },
   {
    "duration": 36,
    "start_time": "2021-11-03T10:14:51.464Z"
   },
   {
    "duration": 207,
    "start_time": "2021-11-03T10:14:51.501Z"
   },
   {
    "duration": 3,
    "start_time": "2021-11-03T10:15:57.823Z"
   },
   {
    "duration": 86,
    "start_time": "2021-11-03T10:15:57.829Z"
   },
   {
    "duration": 5,
    "start_time": "2021-11-03T10:15:57.917Z"
   },
   {
    "duration": 15,
    "start_time": "2021-11-03T10:15:57.924Z"
   },
   {
    "duration": 18,
    "start_time": "2021-11-03T10:15:57.940Z"
   },
   {
    "duration": 37,
    "start_time": "2021-11-03T10:15:57.959Z"
   },
   {
    "duration": 5,
    "start_time": "2021-11-03T10:15:57.998Z"
   },
   {
    "duration": 38,
    "start_time": "2021-11-03T10:15:58.005Z"
   },
   {
    "duration": 18,
    "start_time": "2021-11-03T10:15:58.045Z"
   },
   {
    "duration": 35,
    "start_time": "2021-11-03T10:15:58.065Z"
   },
   {
    "duration": 97,
    "start_time": "2021-11-03T10:15:58.102Z"
   },
   {
    "duration": 3,
    "start_time": "2021-11-03T10:36:10.310Z"
   },
   {
    "duration": 79,
    "start_time": "2021-11-03T10:36:10.315Z"
   },
   {
    "duration": 4,
    "start_time": "2021-11-03T10:36:10.396Z"
   },
   {
    "duration": 5,
    "start_time": "2021-11-03T10:36:10.402Z"
   },
   {
    "duration": 5,
    "start_time": "2021-11-03T10:36:10.408Z"
   },
   {
    "duration": 32,
    "start_time": "2021-11-03T10:36:10.415Z"
   },
   {
    "duration": 46,
    "start_time": "2021-11-03T10:36:10.449Z"
   },
   {
    "duration": 28,
    "start_time": "2021-11-03T10:36:10.498Z"
   },
   {
    "duration": 18,
    "start_time": "2021-11-03T10:36:10.528Z"
   },
   {
    "duration": 51,
    "start_time": "2021-11-03T10:36:10.548Z"
   },
   {
    "duration": 91,
    "start_time": "2021-11-03T10:36:10.602Z"
   },
   {
    "duration": 75,
    "start_time": "2021-11-03T11:33:01.516Z"
   },
   {
    "duration": 25,
    "start_time": "2021-11-03T11:33:23.343Z"
   },
   {
    "duration": 8,
    "start_time": "2021-11-03T15:20:53.322Z"
   },
   {
    "duration": 296,
    "start_time": "2021-11-03T15:23:18.469Z"
   },
   {
    "duration": 313,
    "start_time": "2021-11-03T15:23:45.776Z"
   },
   {
    "duration": 3,
    "start_time": "2021-11-03T15:24:37.739Z"
   },
   {
    "duration": 79,
    "start_time": "2021-11-03T15:24:37.744Z"
   },
   {
    "duration": 4,
    "start_time": "2021-11-03T15:24:37.825Z"
   },
   {
    "duration": 6,
    "start_time": "2021-11-03T15:24:37.830Z"
   },
   {
    "duration": 10,
    "start_time": "2021-11-03T15:24:37.838Z"
   },
   {
    "duration": 54,
    "start_time": "2021-11-03T15:24:37.850Z"
   },
   {
    "duration": 8,
    "start_time": "2021-11-03T15:24:37.906Z"
   },
   {
    "duration": 24,
    "start_time": "2021-11-03T15:24:37.916Z"
   },
   {
    "duration": 57,
    "start_time": "2021-11-03T15:24:37.942Z"
   },
   {
    "duration": 7,
    "start_time": "2021-11-03T15:24:38.001Z"
   },
   {
    "duration": 91,
    "start_time": "2021-11-03T15:24:38.010Z"
   },
   {
    "duration": 103,
    "start_time": "2021-11-03T15:24:38.191Z"
   },
   {
    "duration": 106,
    "start_time": "2021-11-03T15:24:38.297Z"
   },
   {
    "duration": 30,
    "start_time": "2021-11-03T15:25:56.406Z"
   },
   {
    "duration": 12,
    "start_time": "2021-11-03T15:29:24.375Z"
   },
   {
    "duration": 13,
    "start_time": "2021-11-03T15:29:45.241Z"
   },
   {
    "duration": 12,
    "start_time": "2021-11-03T15:29:52.000Z"
   },
   {
    "duration": 16,
    "start_time": "2021-11-03T15:29:54.956Z"
   },
   {
    "duration": 13,
    "start_time": "2021-11-03T15:30:38.489Z"
   },
   {
    "duration": 13,
    "start_time": "2021-11-03T15:31:00.221Z"
   },
   {
    "duration": 16,
    "start_time": "2021-11-03T15:31:03.189Z"
   },
   {
    "duration": 807,
    "start_time": "2021-11-03T15:31:06.894Z"
   },
   {
    "duration": 13,
    "start_time": "2021-11-03T15:31:16.875Z"
   },
   {
    "duration": 15,
    "start_time": "2021-11-03T15:31:19.791Z"
   },
   {
    "duration": 13,
    "start_time": "2021-11-03T15:32:19.189Z"
   },
   {
    "duration": 17,
    "start_time": "2021-11-03T15:32:22.757Z"
   },
   {
    "duration": 326,
    "start_time": "2021-11-03T15:39:09.565Z"
   },
   {
    "duration": 14,
    "start_time": "2021-11-03T15:39:18.369Z"
   },
   {
    "duration": 4,
    "start_time": "2021-11-03T15:46:21.032Z"
   },
   {
    "duration": 84,
    "start_time": "2021-11-03T15:46:21.037Z"
   },
   {
    "duration": 4,
    "start_time": "2021-11-03T15:46:21.123Z"
   },
   {
    "duration": 6,
    "start_time": "2021-11-03T15:46:21.128Z"
   },
   {
    "duration": 9,
    "start_time": "2021-11-03T15:46:21.135Z"
   },
   {
    "duration": 51,
    "start_time": "2021-11-03T15:46:21.145Z"
   },
   {
    "duration": 5,
    "start_time": "2021-11-03T15:46:21.198Z"
   },
   {
    "duration": 25,
    "start_time": "2021-11-03T15:46:21.204Z"
   },
   {
    "duration": 19,
    "start_time": "2021-11-03T15:46:21.231Z"
   },
   {
    "duration": 45,
    "start_time": "2021-11-03T15:46:21.251Z"
   },
   {
    "duration": 97,
    "start_time": "2021-11-03T15:46:21.298Z"
   },
   {
    "duration": 94,
    "start_time": "2021-11-03T15:46:21.397Z"
   },
   {
    "duration": 105,
    "start_time": "2021-11-03T15:46:21.494Z"
   },
   {
    "duration": 28,
    "start_time": "2021-11-03T15:46:21.601Z"
   },
   {
    "duration": 99,
    "start_time": "2021-11-03T15:46:21.693Z"
   },
   {
    "duration": 14,
    "start_time": "2021-11-03T15:46:21.795Z"
   },
   {
    "duration": 178,
    "start_time": "2021-11-03T15:50:24.781Z"
   },
   {
    "duration": 3,
    "start_time": "2021-11-03T15:51:01.076Z"
   },
   {
    "duration": 90,
    "start_time": "2021-11-03T15:51:01.081Z"
   },
   {
    "duration": 4,
    "start_time": "2021-11-03T15:51:01.173Z"
   },
   {
    "duration": 188,
    "start_time": "2021-11-03T15:51:01.179Z"
   },
   {
    "duration": 384,
    "start_time": "2021-11-03T15:51:00.985Z"
   },
   {
    "duration": 382,
    "start_time": "2021-11-03T15:51:00.988Z"
   },
   {
    "duration": 368,
    "start_time": "2021-11-03T15:51:01.003Z"
   },
   {
    "duration": 367,
    "start_time": "2021-11-03T15:51:01.005Z"
   },
   {
    "duration": 366,
    "start_time": "2021-11-03T15:51:01.007Z"
   },
   {
    "duration": 365,
    "start_time": "2021-11-03T15:51:01.009Z"
   },
   {
    "duration": 364,
    "start_time": "2021-11-03T15:51:01.011Z"
   },
   {
    "duration": 339,
    "start_time": "2021-11-03T15:51:01.037Z"
   },
   {
    "duration": 335,
    "start_time": "2021-11-03T15:51:01.041Z"
   },
   {
    "duration": 332,
    "start_time": "2021-11-03T15:51:01.045Z"
   },
   {
    "duration": 332,
    "start_time": "2021-11-03T15:51:01.046Z"
   },
   {
    "duration": 331,
    "start_time": "2021-11-03T15:51:01.048Z"
   },
   {
    "duration": 7,
    "start_time": "2021-11-03T15:52:01.900Z"
   },
   {
    "duration": 6,
    "start_time": "2021-11-03T15:52:40.475Z"
   },
   {
    "duration": 176,
    "start_time": "2021-11-03T15:52:55.666Z"
   },
   {
    "duration": 7,
    "start_time": "2021-11-03T15:53:04.437Z"
   },
   {
    "duration": 188,
    "start_time": "2021-11-03T15:53:11.722Z"
   },
   {
    "duration": 178,
    "start_time": "2021-11-03T15:53:21.084Z"
   },
   {
    "duration": 7,
    "start_time": "2021-11-03T15:53:37.513Z"
   },
   {
    "duration": 343,
    "start_time": "2021-11-03T15:54:33.570Z"
   },
   {
    "duration": 4,
    "start_time": "2021-11-03T15:54:48.608Z"
   },
   {
    "duration": 466,
    "start_time": "2021-11-03T15:54:56.225Z"
   },
   {
    "duration": 4,
    "start_time": "2021-11-03T15:55:23.863Z"
   },
   {
    "duration": 78,
    "start_time": "2021-11-03T15:55:23.869Z"
   },
   {
    "duration": 5,
    "start_time": "2021-11-03T15:55:23.949Z"
   },
   {
    "duration": 7,
    "start_time": "2021-11-03T15:55:23.956Z"
   },
   {
    "duration": 27,
    "start_time": "2021-11-03T15:55:23.965Z"
   },
   {
    "duration": 36,
    "start_time": "2021-11-03T15:55:23.994Z"
   },
   {
    "duration": 5,
    "start_time": "2021-11-03T15:55:24.031Z"
   },
   {
    "duration": 52,
    "start_time": "2021-11-03T15:55:24.039Z"
   },
   {
    "duration": 17,
    "start_time": "2021-11-03T15:55:24.093Z"
   },
   {
    "duration": 4,
    "start_time": "2021-11-03T15:55:24.112Z"
   },
   {
    "duration": 81,
    "start_time": "2021-11-03T15:55:24.118Z"
   },
   {
    "duration": 111,
    "start_time": "2021-11-03T15:55:24.201Z"
   },
   {
    "duration": 107,
    "start_time": "2021-11-03T15:55:24.393Z"
   },
   {
    "duration": 28,
    "start_time": "2021-11-03T15:55:24.502Z"
   },
   {
    "duration": 104,
    "start_time": "2021-11-03T15:55:24.594Z"
   },
   {
    "duration": 14,
    "start_time": "2021-11-03T15:55:24.699Z"
   },
   {
    "duration": 173,
    "start_time": "2021-11-03T15:58:20.202Z"
   },
   {
    "duration": 3,
    "start_time": "2021-11-03T15:58:25.804Z"
   },
   {
    "duration": 82,
    "start_time": "2021-11-03T15:58:25.810Z"
   },
   {
    "duration": 8,
    "start_time": "2021-11-03T15:58:25.895Z"
   },
   {
    "duration": 8,
    "start_time": "2021-11-03T15:58:25.905Z"
   },
   {
    "duration": 4,
    "start_time": "2021-11-03T15:58:25.915Z"
   },
   {
    "duration": 80,
    "start_time": "2021-11-03T15:58:25.921Z"
   },
   {
    "duration": 6,
    "start_time": "2021-11-03T15:58:26.003Z"
   },
   {
    "duration": 23,
    "start_time": "2021-11-03T15:58:26.011Z"
   },
   {
    "duration": 21,
    "start_time": "2021-11-03T15:58:26.035Z"
   },
   {
    "duration": 41,
    "start_time": "2021-11-03T15:58:26.058Z"
   },
   {
    "duration": 189,
    "start_time": "2021-11-03T15:58:26.101Z"
   },
   {
    "duration": 101,
    "start_time": "2021-11-03T15:58:26.292Z"
   },
   {
    "duration": 103,
    "start_time": "2021-11-03T15:58:26.396Z"
   },
   {
    "duration": 31,
    "start_time": "2021-11-03T15:58:26.501Z"
   },
   {
    "duration": 104,
    "start_time": "2021-11-03T15:58:26.596Z"
   },
   {
    "duration": 92,
    "start_time": "2021-11-03T15:58:26.702Z"
   },
   {
    "duration": 7,
    "start_time": "2021-11-03T15:59:14.997Z"
   },
   {
    "duration": 4,
    "start_time": "2021-11-03T15:59:29.940Z"
   },
   {
    "duration": 3,
    "start_time": "2021-11-03T15:59:36.662Z"
   },
   {
    "duration": 88,
    "start_time": "2021-11-03T15:59:36.667Z"
   },
   {
    "duration": 7,
    "start_time": "2021-11-03T15:59:36.757Z"
   },
   {
    "duration": 8,
    "start_time": "2021-11-03T15:59:36.765Z"
   },
   {
    "duration": 19,
    "start_time": "2021-11-03T15:59:36.774Z"
   },
   {
    "duration": 34,
    "start_time": "2021-11-03T15:59:36.794Z"
   },
   {
    "duration": 6,
    "start_time": "2021-11-03T15:59:36.829Z"
   },
   {
    "duration": 54,
    "start_time": "2021-11-03T15:59:36.838Z"
   },
   {
    "duration": 21,
    "start_time": "2021-11-03T15:59:36.894Z"
   },
   {
    "duration": 8,
    "start_time": "2021-11-03T15:59:36.916Z"
   },
   {
    "duration": 72,
    "start_time": "2021-11-03T15:59:36.926Z"
   },
   {
    "duration": 192,
    "start_time": "2021-11-03T15:59:37.000Z"
   },
   {
    "duration": 104,
    "start_time": "2021-11-03T15:59:37.195Z"
   },
   {
    "duration": 32,
    "start_time": "2021-11-03T15:59:37.301Z"
   },
   {
    "duration": 109,
    "start_time": "2021-11-03T15:59:37.395Z"
   },
   {
    "duration": 16,
    "start_time": "2021-11-03T15:59:37.506Z"
   },
   {
    "duration": 3,
    "start_time": "2021-11-03T16:00:08.267Z"
   },
   {
    "duration": 92,
    "start_time": "2021-11-03T16:00:08.272Z"
   },
   {
    "duration": 6,
    "start_time": "2021-11-03T16:00:08.366Z"
   },
   {
    "duration": 19,
    "start_time": "2021-11-03T16:00:08.374Z"
   },
   {
    "duration": 13,
    "start_time": "2021-11-03T16:00:08.395Z"
   },
   {
    "duration": 45,
    "start_time": "2021-11-03T16:00:08.410Z"
   },
   {
    "duration": 6,
    "start_time": "2021-11-03T16:00:08.456Z"
   },
   {
    "duration": 34,
    "start_time": "2021-11-03T16:00:08.464Z"
   },
   {
    "duration": 20,
    "start_time": "2021-11-03T16:00:08.500Z"
   },
   {
    "duration": 8,
    "start_time": "2021-11-03T16:00:08.521Z"
   },
   {
    "duration": 101,
    "start_time": "2021-11-03T16:00:08.591Z"
   },
   {
    "duration": 99,
    "start_time": "2021-11-03T16:00:08.694Z"
   },
   {
    "duration": 105,
    "start_time": "2021-11-03T16:00:08.795Z"
   },
   {
    "duration": 91,
    "start_time": "2021-11-03T16:00:08.902Z"
   },
   {
    "duration": 103,
    "start_time": "2021-11-03T16:00:08.995Z"
   },
   {
    "duration": 26,
    "start_time": "2021-11-03T16:00:09.099Z"
   },
   {
    "duration": 179,
    "start_time": "2021-11-03T16:23:50.877Z"
   },
   {
    "duration": 16,
    "start_time": "2021-11-03T16:24:36.195Z"
   },
   {
    "duration": 83,
    "start_time": "2021-11-03T16:24:36.213Z"
   },
   {
    "duration": 6,
    "start_time": "2021-11-03T16:24:36.298Z"
   },
   {
    "duration": 19,
    "start_time": "2021-11-03T16:24:36.305Z"
   },
   {
    "duration": 4,
    "start_time": "2021-11-03T16:24:36.326Z"
   },
   {
    "duration": 30,
    "start_time": "2021-11-03T16:24:36.332Z"
   },
   {
    "duration": 30,
    "start_time": "2021-11-03T16:24:36.364Z"
   },
   {
    "duration": 22,
    "start_time": "2021-11-03T16:24:36.396Z"
   },
   {
    "duration": 18,
    "start_time": "2021-11-03T16:24:36.420Z"
   },
   {
    "duration": 53,
    "start_time": "2021-11-03T16:24:36.439Z"
   },
   {
    "duration": 98,
    "start_time": "2021-11-03T16:24:36.494Z"
   },
   {
    "duration": 189,
    "start_time": "2021-11-03T16:24:36.594Z"
   },
   {
    "duration": 424,
    "start_time": "2021-11-03T16:24:36.361Z"
   },
   {
    "duration": 422,
    "start_time": "2021-11-03T16:24:36.364Z"
   },
   {
    "duration": 420,
    "start_time": "2021-11-03T16:24:36.366Z"
   },
   {
    "duration": 413,
    "start_time": "2021-11-03T16:24:36.374Z"
   },
   {
    "duration": 411,
    "start_time": "2021-11-03T16:24:36.377Z"
   },
   {
    "duration": 3,
    "start_time": "2021-11-03T16:26:12.716Z"
   },
   {
    "duration": 82,
    "start_time": "2021-11-03T16:26:12.721Z"
   },
   {
    "duration": 5,
    "start_time": "2021-11-03T16:26:12.804Z"
   },
   {
    "duration": 7,
    "start_time": "2021-11-03T16:26:12.811Z"
   },
   {
    "duration": 6,
    "start_time": "2021-11-03T16:26:12.819Z"
   },
   {
    "duration": 33,
    "start_time": "2021-11-03T16:26:12.826Z"
   },
   {
    "duration": 5,
    "start_time": "2021-11-03T16:26:12.891Z"
   },
   {
    "duration": 22,
    "start_time": "2021-11-03T16:26:12.899Z"
   },
   {
    "duration": 18,
    "start_time": "2021-11-03T16:26:12.923Z"
   },
   {
    "duration": 61,
    "start_time": "2021-11-03T16:26:12.942Z"
   },
   {
    "duration": 91,
    "start_time": "2021-11-03T16:26:13.005Z"
   },
   {
    "duration": 63,
    "start_time": "2021-11-03T16:26:13.098Z"
   },
   {
    "duration": 48,
    "start_time": "2021-11-03T16:26:13.163Z"
   },
   {
    "duration": 110,
    "start_time": "2021-11-03T16:26:13.292Z"
   },
   {
    "duration": 28,
    "start_time": "2021-11-03T16:26:13.403Z"
   },
   {
    "duration": 104,
    "start_time": "2021-11-03T16:26:13.496Z"
   },
   {
    "duration": 15,
    "start_time": "2021-11-03T16:26:13.601Z"
   },
   {
    "duration": 4,
    "start_time": "2021-11-03T16:41:43.418Z"
   },
   {
    "duration": 84,
    "start_time": "2021-11-03T16:41:43.424Z"
   },
   {
    "duration": 8,
    "start_time": "2021-11-03T16:41:43.510Z"
   },
   {
    "duration": 9,
    "start_time": "2021-11-03T16:41:43.520Z"
   },
   {
    "duration": 3,
    "start_time": "2021-11-03T16:41:43.530Z"
   },
   {
    "duration": 65,
    "start_time": "2021-11-03T16:41:43.534Z"
   },
   {
    "duration": 6,
    "start_time": "2021-11-03T16:41:43.601Z"
   },
   {
    "duration": 22,
    "start_time": "2021-11-03T16:41:43.609Z"
   },
   {
    "duration": 18,
    "start_time": "2021-11-03T16:41:43.633Z"
   },
   {
    "duration": 47,
    "start_time": "2021-11-03T16:41:43.652Z"
   },
   {
    "duration": 6,
    "start_time": "2021-11-03T16:41:43.791Z"
   },
   {
    "duration": 71,
    "start_time": "2021-11-03T16:41:43.799Z"
   },
   {
    "duration": 173,
    "start_time": "2021-11-03T16:41:43.872Z"
   },
   {
    "duration": 449,
    "start_time": "2021-11-03T16:41:43.598Z"
   },
   {
    "duration": 448,
    "start_time": "2021-11-03T16:41:43.600Z"
   },
   {
    "duration": 440,
    "start_time": "2021-11-03T16:41:43.609Z"
   },
   {
    "duration": 438,
    "start_time": "2021-11-03T16:41:43.612Z"
   },
   {
    "duration": 435,
    "start_time": "2021-11-03T16:41:43.616Z"
   },
   {
    "duration": 10,
    "start_time": "2021-11-03T16:42:18.369Z"
   },
   {
    "duration": 73,
    "start_time": "2021-11-03T16:42:18.380Z"
   },
   {
    "duration": 5,
    "start_time": "2021-11-03T16:42:18.455Z"
   },
   {
    "duration": 29,
    "start_time": "2021-11-03T16:42:18.462Z"
   },
   {
    "duration": 4,
    "start_time": "2021-11-03T16:42:18.492Z"
   },
   {
    "duration": 37,
    "start_time": "2021-11-03T16:42:18.497Z"
   },
   {
    "duration": 5,
    "start_time": "2021-11-03T16:42:18.536Z"
   },
   {
    "duration": 50,
    "start_time": "2021-11-03T16:42:18.543Z"
   },
   {
    "duration": 19,
    "start_time": "2021-11-03T16:42:18.595Z"
   },
   {
    "duration": 7,
    "start_time": "2021-11-03T16:42:18.616Z"
   },
   {
    "duration": 101,
    "start_time": "2021-11-03T16:42:18.692Z"
   },
   {
    "duration": 69,
    "start_time": "2021-11-03T16:42:18.794Z"
   },
   {
    "duration": 3586,
    "start_time": "2021-11-03T16:42:18.864Z"
   },
   {
    "duration": 44,
    "start_time": "2021-11-03T16:42:22.451Z"
   },
   {
    "duration": 109,
    "start_time": "2021-11-03T16:42:22.497Z"
   },
   {
    "duration": 90,
    "start_time": "2021-11-03T16:42:22.607Z"
   },
   {
    "duration": 104,
    "start_time": "2021-11-03T16:42:22.699Z"
   },
   {
    "duration": 88,
    "start_time": "2021-11-03T16:42:22.804Z"
   },
   {
    "duration": 460,
    "start_time": "2021-11-03T16:43:06.147Z"
   },
   {
    "duration": 9341,
    "start_time": "2021-11-03T16:43:12.538Z"
   },
   {
    "duration": 594,
    "start_time": "2021-11-03T16:46:10.028Z"
   },
   {
    "duration": 13576,
    "start_time": "2021-11-03T16:46:43.195Z"
   },
   {
    "duration": 218,
    "start_time": "2021-11-03T16:48:25.515Z"
   },
   {
    "duration": 4732,
    "start_time": "2021-11-03T16:48:29.681Z"
   },
   {
    "duration": 122963,
    "start_time": "2021-11-03T16:54:31.476Z"
   },
   {
    "duration": 9596,
    "start_time": "2021-11-03T17:00:01.485Z"
   },
   {
    "duration": 5,
    "start_time": "2021-11-03T17:02:40.355Z"
   },
   {
    "duration": 113,
    "start_time": "2021-11-03T17:02:40.362Z"
   },
   {
    "duration": 6,
    "start_time": "2021-11-03T17:02:40.478Z"
   },
   {
    "duration": 9,
    "start_time": "2021-11-03T17:02:40.492Z"
   },
   {
    "duration": 3,
    "start_time": "2021-11-03T17:02:40.503Z"
   },
   {
    "duration": 32,
    "start_time": "2021-11-03T17:02:40.508Z"
   },
   {
    "duration": 51,
    "start_time": "2021-11-03T17:02:40.541Z"
   },
   {
    "duration": 23,
    "start_time": "2021-11-03T17:02:40.595Z"
   },
   {
    "duration": 21,
    "start_time": "2021-11-03T17:02:40.621Z"
   },
   {
    "duration": 48,
    "start_time": "2021-11-03T17:02:40.644Z"
   },
   {
    "duration": 99,
    "start_time": "2021-11-03T17:02:40.694Z"
   },
   {
    "duration": 480,
    "start_time": "2021-11-03T17:02:40.795Z"
   },
   {
    "duration": 9544,
    "start_time": "2021-11-03T17:02:41.277Z"
   },
   {
    "duration": 75,
    "start_time": "2021-11-03T17:02:50.823Z"
   },
   {
    "duration": 105,
    "start_time": "2021-11-03T17:02:50.900Z"
   },
   {
    "duration": 87,
    "start_time": "2021-11-03T17:02:51.006Z"
   },
   {
    "duration": 737,
    "start_time": "2021-11-03T17:02:51.095Z"
   },
   {
    "duration": 13718,
    "start_time": "2021-11-03T17:02:51.833Z"
   },
   {
    "duration": 14,
    "start_time": "2021-11-03T17:03:05.553Z"
   },
   {
    "duration": 37,
    "start_time": "2021-11-03T17:03:05.569Z"
   },
   {
    "duration": 398,
    "start_time": "2021-11-03T17:03:05.607Z"
   },
   {
    "duration": 4798,
    "start_time": "2021-11-03T17:03:06.007Z"
   },
   {
    "duration": 3,
    "start_time": "2021-11-03T17:03:33.449Z"
   },
   {
    "duration": 86,
    "start_time": "2021-11-03T17:03:33.454Z"
   },
   {
    "duration": 5,
    "start_time": "2021-11-03T17:03:33.542Z"
   },
   {
    "duration": 6,
    "start_time": "2021-11-03T17:03:33.549Z"
   },
   {
    "duration": 3,
    "start_time": "2021-11-03T17:03:33.557Z"
   },
   {
    "duration": 29,
    "start_time": "2021-11-03T17:03:33.592Z"
   },
   {
    "duration": 5,
    "start_time": "2021-11-03T17:03:33.623Z"
   },
   {
    "duration": 22,
    "start_time": "2021-11-03T17:03:33.630Z"
   },
   {
    "duration": 56,
    "start_time": "2021-11-03T17:03:33.653Z"
   },
   {
    "duration": 7,
    "start_time": "2021-11-03T17:03:33.711Z"
   },
   {
    "duration": 173,
    "start_time": "2021-11-03T17:03:33.720Z"
   },
   {
    "duration": 490,
    "start_time": "2021-11-03T17:03:33.894Z"
   },
   {
    "duration": 9476,
    "start_time": "2021-11-03T17:03:34.386Z"
   },
   {
    "duration": 37,
    "start_time": "2021-11-03T17:03:43.864Z"
   },
   {
    "duration": 191,
    "start_time": "2021-11-03T17:03:43.903Z"
   },
   {
    "duration": 39,
    "start_time": "2021-11-03T17:03:44.096Z"
   },
   {
    "duration": 709,
    "start_time": "2021-11-03T17:03:44.193Z"
   },
   {
    "duration": 13787,
    "start_time": "2021-11-03T17:03:44.904Z"
   },
   {
    "duration": 15,
    "start_time": "2021-11-03T17:03:58.693Z"
   },
   {
    "duration": 16,
    "start_time": "2021-11-03T17:03:58.710Z"
   },
   {
    "duration": 319,
    "start_time": "2021-11-03T17:03:58.795Z"
   },
   {
    "duration": 4756,
    "start_time": "2021-11-03T17:03:59.116Z"
   },
   {
    "duration": 9459,
    "start_time": "2021-11-03T19:29:17.570Z"
   },
   {
    "duration": 4,
    "start_time": "2021-11-03T19:29:41.770Z"
   },
   {
    "duration": 76,
    "start_time": "2021-11-03T19:29:41.775Z"
   },
   {
    "duration": 5,
    "start_time": "2021-11-03T19:29:41.853Z"
   },
   {
    "duration": 32,
    "start_time": "2021-11-03T19:29:41.860Z"
   },
   {
    "duration": 3,
    "start_time": "2021-11-03T19:29:41.894Z"
   },
   {
    "duration": 31,
    "start_time": "2021-11-03T19:29:41.899Z"
   },
   {
    "duration": 8,
    "start_time": "2021-11-03T19:29:41.931Z"
   },
   {
    "duration": 57,
    "start_time": "2021-11-03T19:29:41.941Z"
   },
   {
    "duration": 16,
    "start_time": "2021-11-03T19:29:42.000Z"
   },
   {
    "duration": 7,
    "start_time": "2021-11-03T19:29:42.018Z"
   },
   {
    "duration": 73,
    "start_time": "2021-11-03T19:29:42.027Z"
   },
   {
    "duration": 389,
    "start_time": "2021-11-03T19:29:42.192Z"
   },
   {
    "duration": 7755,
    "start_time": "2021-11-03T19:29:42.583Z"
   },
   {
    "duration": 54,
    "start_time": "2021-11-03T19:29:50.339Z"
   },
   {
    "duration": 107,
    "start_time": "2021-11-03T19:29:50.395Z"
   },
   {
    "duration": 25,
    "start_time": "2021-11-03T19:29:50.504Z"
   },
   {
    "duration": 595,
    "start_time": "2021-11-03T19:29:50.592Z"
   },
   {
    "duration": 10647,
    "start_time": "2021-11-03T19:29:51.189Z"
   },
   {
    "duration": 14,
    "start_time": "2021-11-03T19:30:01.837Z"
   },
   {
    "duration": 40,
    "start_time": "2021-11-03T19:30:01.853Z"
   },
   {
    "duration": 311,
    "start_time": "2021-11-03T19:30:01.898Z"
   },
   {
    "duration": 3945,
    "start_time": "2021-11-03T19:30:02.211Z"
   },
   {
    "duration": 170,
    "start_time": "2021-11-03T19:37:10.088Z"
   },
   {
    "duration": 3,
    "start_time": "2021-11-03T19:37:14.514Z"
   },
   {
    "duration": 80,
    "start_time": "2021-11-03T19:37:14.519Z"
   },
   {
    "duration": 6,
    "start_time": "2021-11-03T19:37:14.601Z"
   },
   {
    "duration": 28,
    "start_time": "2021-11-03T19:37:14.608Z"
   },
   {
    "duration": 7,
    "start_time": "2021-11-03T19:37:14.638Z"
   },
   {
    "duration": 44,
    "start_time": "2021-11-03T19:37:14.646Z"
   },
   {
    "duration": 8,
    "start_time": "2021-11-03T19:37:14.692Z"
   },
   {
    "duration": 20,
    "start_time": "2021-11-03T19:37:14.702Z"
   },
   {
    "duration": 14,
    "start_time": "2021-11-03T19:37:14.724Z"
   },
   {
    "duration": 56,
    "start_time": "2021-11-03T19:37:14.739Z"
   },
   {
    "duration": 100,
    "start_time": "2021-11-03T19:37:14.797Z"
   },
   {
    "duration": 394,
    "start_time": "2021-11-03T19:37:14.899Z"
   },
   {
    "duration": 7571,
    "start_time": "2021-11-03T19:37:15.294Z"
   },
   {
    "duration": 33,
    "start_time": "2021-11-03T19:37:22.867Z"
   },
   {
    "duration": 190,
    "start_time": "2021-11-03T19:37:22.902Z"
   },
   {
    "duration": 32,
    "start_time": "2021-11-03T19:37:23.094Z"
   },
   {
    "duration": 576,
    "start_time": "2021-11-03T19:37:23.193Z"
   },
   {
    "duration": 10672,
    "start_time": "2021-11-03T19:37:23.771Z"
   },
   {
    "duration": 12,
    "start_time": "2021-11-03T19:37:34.444Z"
   },
   {
    "duration": 34,
    "start_time": "2021-11-03T19:37:34.458Z"
   },
   {
    "duration": 298,
    "start_time": "2021-11-03T19:37:34.494Z"
   },
   {
    "duration": 3889,
    "start_time": "2021-11-03T19:37:34.793Z"
   },
   {
    "duration": 15,
    "start_time": "2021-11-03T19:37:38.685Z"
   },
   {
    "duration": 7,
    "start_time": "2021-11-03T19:38:20.030Z"
   },
   {
    "duration": 6,
    "start_time": "2021-11-03T19:38:23.855Z"
   },
   {
    "duration": 9,
    "start_time": "2021-11-03T19:38:26.903Z"
   },
   {
    "duration": 193,
    "start_time": "2021-11-03T19:38:29.845Z"
   },
   {
    "duration": 7,
    "start_time": "2021-11-03T19:38:48.087Z"
   },
   {
    "duration": 8,
    "start_time": "2021-11-03T19:38:51.804Z"
   },
   {
    "duration": 173,
    "start_time": "2021-11-03T19:38:54.740Z"
   },
   {
    "duration": 7,
    "start_time": "2021-11-03T19:39:01.372Z"
   },
   {
    "duration": 177,
    "start_time": "2021-11-03T19:39:05.606Z"
   },
   {
    "duration": 61,
    "start_time": "2021-11-03T19:39:10.831Z"
   },
   {
    "duration": 183,
    "start_time": "2021-11-03T19:39:14.481Z"
   },
   {
    "duration": 169,
    "start_time": "2021-11-03T19:39:17.493Z"
   },
   {
    "duration": 13,
    "start_time": "2021-11-03T19:39:21.936Z"
   },
   {
    "duration": 7,
    "start_time": "2021-11-03T19:39:25.667Z"
   },
   {
    "duration": 4,
    "start_time": "2021-11-03T19:41:25.674Z"
   },
   {
    "duration": 88,
    "start_time": "2021-11-03T19:41:25.679Z"
   },
   {
    "duration": 6,
    "start_time": "2021-11-03T19:41:25.769Z"
   },
   {
    "duration": 20,
    "start_time": "2021-11-03T19:41:25.776Z"
   },
   {
    "duration": 8,
    "start_time": "2021-11-03T19:41:25.798Z"
   },
   {
    "duration": 44,
    "start_time": "2021-11-03T19:41:25.808Z"
   },
   {
    "duration": 8,
    "start_time": "2021-11-03T19:41:25.854Z"
   },
   {
    "duration": 43,
    "start_time": "2021-11-03T19:41:25.865Z"
   },
   {
    "duration": 16,
    "start_time": "2021-11-03T19:41:25.910Z"
   },
   {
    "duration": 8,
    "start_time": "2021-11-03T19:41:25.928Z"
   },
   {
    "duration": 158,
    "start_time": "2021-11-03T19:41:25.937Z"
   },
   {
    "duration": 414,
    "start_time": "2021-11-03T19:41:26.097Z"
   },
   {
    "duration": 7792,
    "start_time": "2021-11-03T19:41:26.513Z"
   },
   {
    "duration": 23,
    "start_time": "2021-11-03T19:41:34.306Z"
   },
   {
    "duration": 104,
    "start_time": "2021-11-03T19:41:34.392Z"
   },
   {
    "duration": 25,
    "start_time": "2021-11-03T19:41:34.497Z"
   },
   {
    "duration": 659,
    "start_time": "2021-11-03T19:41:34.524Z"
   },
   {
    "duration": 10744,
    "start_time": "2021-11-03T19:41:35.185Z"
   },
   {
    "duration": 13,
    "start_time": "2021-11-03T19:41:45.931Z"
   },
   {
    "duration": 46,
    "start_time": "2021-11-03T19:41:45.946Z"
   },
   {
    "duration": 280,
    "start_time": "2021-11-03T19:41:45.994Z"
   },
   {
    "duration": 4121,
    "start_time": "2021-11-03T19:41:46.275Z"
   },
   {
    "duration": 6,
    "start_time": "2021-11-03T19:41:50.399Z"
   },
   {
    "duration": 14,
    "start_time": "2021-11-03T19:42:19.642Z"
   },
   {
    "duration": 4,
    "start_time": "2021-11-03T19:43:36.989Z"
   },
   {
    "duration": 75,
    "start_time": "2021-11-03T19:43:36.994Z"
   },
   {
    "duration": 24,
    "start_time": "2021-11-03T19:43:37.071Z"
   },
   {
    "duration": 6,
    "start_time": "2021-11-03T19:43:37.097Z"
   },
   {
    "duration": 3,
    "start_time": "2021-11-03T19:43:37.105Z"
   },
   {
    "duration": 32,
    "start_time": "2021-11-03T19:43:37.110Z"
   },
   {
    "duration": 50,
    "start_time": "2021-11-03T19:43:37.143Z"
   },
   {
    "duration": 25,
    "start_time": "2021-11-03T19:43:37.195Z"
   },
   {
    "duration": 16,
    "start_time": "2021-11-03T19:43:37.222Z"
   },
   {
    "duration": 53,
    "start_time": "2021-11-03T19:43:37.239Z"
   },
   {
    "duration": 98,
    "start_time": "2021-11-03T19:43:37.294Z"
   },
   {
    "duration": 397,
    "start_time": "2021-11-03T19:43:37.394Z"
   },
   {
    "duration": 7566,
    "start_time": "2021-11-03T19:43:37.793Z"
   },
   {
    "duration": 34,
    "start_time": "2021-11-03T19:43:45.361Z"
   },
   {
    "duration": 198,
    "start_time": "2021-11-03T19:43:45.397Z"
   },
   {
    "duration": 24,
    "start_time": "2021-11-03T19:43:45.596Z"
   },
   {
    "duration": 576,
    "start_time": "2021-11-03T19:43:45.691Z"
   },
   {
    "duration": 11040,
    "start_time": "2021-11-03T19:43:46.269Z"
   },
   {
    "duration": 13,
    "start_time": "2021-11-03T19:43:57.311Z"
   },
   {
    "duration": 13,
    "start_time": "2021-11-03T19:43:57.325Z"
   },
   {
    "duration": 279,
    "start_time": "2021-11-03T19:43:57.394Z"
   },
   {
    "duration": 3911,
    "start_time": "2021-11-03T19:43:57.674Z"
   },
   {
    "duration": 14,
    "start_time": "2021-11-03T19:44:01.588Z"
   },
   {
    "duration": 4,
    "start_time": "2021-11-03T19:57:45.901Z"
   },
   {
    "duration": 85,
    "start_time": "2021-11-03T19:57:45.906Z"
   },
   {
    "duration": 5,
    "start_time": "2021-11-03T19:57:45.993Z"
   },
   {
    "duration": 9,
    "start_time": "2021-11-03T19:57:46.000Z"
   },
   {
    "duration": 7,
    "start_time": "2021-11-03T19:57:46.010Z"
   },
   {
    "duration": 32,
    "start_time": "2021-11-03T19:57:46.019Z"
   },
   {
    "duration": 41,
    "start_time": "2021-11-03T19:57:46.052Z"
   },
   {
    "duration": 27,
    "start_time": "2021-11-03T19:57:46.096Z"
   },
   {
    "duration": 18,
    "start_time": "2021-11-03T19:57:46.125Z"
   },
   {
    "duration": 49,
    "start_time": "2021-11-03T19:57:46.145Z"
   },
   {
    "duration": 103,
    "start_time": "2021-11-03T19:57:46.196Z"
   },
   {
    "duration": 700,
    "start_time": "2021-11-03T19:57:46.301Z"
   },
   {
    "duration": 30593,
    "start_time": "2021-11-03T19:57:47.003Z"
   },
   {
    "duration": 94,
    "start_time": "2021-11-03T19:58:17.598Z"
   },
   {
    "duration": 105,
    "start_time": "2021-11-03T19:58:17.694Z"
   },
   {
    "duration": 24,
    "start_time": "2021-11-03T19:58:17.801Z"
   },
   {
    "duration": 965,
    "start_time": "2021-11-03T19:58:17.827Z"
   },
   {
    "duration": 42800,
    "start_time": "2021-11-03T19:58:18.794Z"
   },
   {
    "duration": 12,
    "start_time": "2021-11-03T19:59:01.596Z"
   },
   {
    "duration": 81,
    "start_time": "2021-11-03T19:59:01.610Z"
   },
   {
    "duration": 394,
    "start_time": "2021-11-03T19:59:01.694Z"
   },
   {
    "duration": 15395,
    "start_time": "2021-11-03T19:59:02.090Z"
   },
   {
    "duration": 14,
    "start_time": "2021-11-03T19:59:17.488Z"
   },
   {
    "duration": 1029,
    "start_time": "2021-11-03T20:06:05.274Z"
   },
   {
    "duration": 3,
    "start_time": "2021-11-03T20:06:28.229Z"
   },
   {
    "duration": 16,
    "start_time": "2021-11-03T20:06:39.481Z"
   },
   {
    "duration": 648,
    "start_time": "2021-11-03T20:07:20.694Z"
   },
   {
    "duration": 30360,
    "start_time": "2021-11-03T20:07:40.899Z"
   },
   {
    "duration": 115,
    "start_time": "2021-11-03T20:09:01.476Z"
   },
   {
    "duration": 68,
    "start_time": "2021-11-03T20:09:20.525Z"
   },
   {
    "duration": 800,
    "start_time": "2021-11-03T20:09:34.422Z"
   },
   {
    "duration": 42843,
    "start_time": "2021-11-03T20:09:49.690Z"
   },
   {
    "duration": 19,
    "start_time": "2021-11-03T20:10:50.278Z"
   },
   {
    "duration": 293,
    "start_time": "2021-11-03T20:11:02.022Z"
   },
   {
    "duration": 15530,
    "start_time": "2021-11-03T20:11:14.309Z"
   },
   {
    "duration": 38,
    "start_time": "2021-11-03T20:12:26.733Z"
   },
   {
    "duration": 1515,
    "start_time": "2021-11-04T17:51:25.373Z"
   },
   {
    "duration": 129,
    "start_time": "2021-11-04T17:51:26.891Z"
   },
   {
    "duration": 9,
    "start_time": "2021-11-04T17:51:27.023Z"
   },
   {
    "duration": 10,
    "start_time": "2021-11-04T17:51:27.035Z"
   },
   {
    "duration": 5,
    "start_time": "2021-11-04T17:51:27.047Z"
   },
   {
    "duration": 57,
    "start_time": "2021-11-04T17:51:27.054Z"
   },
   {
    "duration": 13,
    "start_time": "2021-11-04T17:51:27.114Z"
   },
   {
    "duration": 40,
    "start_time": "2021-11-04T17:51:27.129Z"
   },
   {
    "duration": 35,
    "start_time": "2021-11-04T17:51:27.174Z"
   },
   {
    "duration": 8,
    "start_time": "2021-11-04T17:51:27.212Z"
   },
   {
    "duration": 279,
    "start_time": "2021-11-04T17:51:27.222Z"
   },
   {
    "duration": 1315,
    "start_time": "2021-11-04T17:51:27.505Z"
   },
   {
    "duration": 53523,
    "start_time": "2021-11-04T17:51:28.823Z"
   },
   {
    "duration": 158,
    "start_time": "2021-11-04T17:52:22.348Z"
   },
   {
    "duration": 108,
    "start_time": "2021-11-04T17:52:22.509Z"
   },
   {
    "duration": 182,
    "start_time": "2021-11-04T17:52:22.619Z"
   },
   {
    "duration": 1401,
    "start_time": "2021-11-04T17:52:22.804Z"
   },
   {
    "duration": 579,
    "start_time": "2021-11-04T17:52:24.207Z"
   },
   {
    "duration": 899,
    "start_time": "2021-11-04T17:52:23.890Z"
   },
   {
    "duration": 897,
    "start_time": "2021-11-04T17:52:23.893Z"
   },
   {
    "duration": 896,
    "start_time": "2021-11-04T17:52:23.896Z"
   },
   {
    "duration": 895,
    "start_time": "2021-11-04T17:52:23.898Z"
   },
   {
    "duration": 895,
    "start_time": "2021-11-04T17:52:23.900Z"
   },
   {
    "duration": 1385985,
    "start_time": "2021-11-04T17:53:26.938Z"
   },
   {
    "duration": 20,
    "start_time": "2021-11-04T18:21:57.083Z"
   },
   {
    "duration": 54,
    "start_time": "2021-11-04T18:21:59.953Z"
   },
   {
    "duration": 446,
    "start_time": "2021-11-04T18:22:03.532Z"
   },
   {
    "duration": 492200,
    "start_time": "2021-11-04T18:22:47.616Z"
   },
   {
    "duration": 483,
    "start_time": "2021-11-04T18:38:13.728Z"
   },
   {
    "duration": 77,
    "start_time": "2021-11-04T18:38:31.201Z"
   },
   {
    "duration": 363,
    "start_time": "2021-11-05T09:04:02.959Z"
   },
   {
    "duration": 1454,
    "start_time": "2021-11-05T09:04:09.513Z"
   },
   {
    "duration": 132,
    "start_time": "2021-11-05T09:04:10.970Z"
   },
   {
    "duration": 24,
    "start_time": "2021-11-05T09:04:11.106Z"
   },
   {
    "duration": 421,
    "start_time": "2021-11-05T09:04:11.134Z"
   },
   {
    "duration": 10,
    "start_time": "2021-11-05T09:04:11.558Z"
   },
   {
    "duration": 10,
    "start_time": "2021-11-05T09:04:11.571Z"
   },
   {
    "duration": 81,
    "start_time": "2021-11-05T09:04:11.583Z"
   },
   {
    "duration": 13,
    "start_time": "2021-11-05T09:04:11.667Z"
   },
   {
    "duration": 65,
    "start_time": "2021-11-05T09:04:11.683Z"
   },
   {
    "duration": 27,
    "start_time": "2021-11-05T09:04:11.750Z"
   },
   {
    "duration": 58,
    "start_time": "2021-11-05T09:04:11.779Z"
   },
   {
    "duration": 291,
    "start_time": "2021-11-05T09:04:11.840Z"
   },
   {
    "duration": 1074,
    "start_time": "2021-11-05T09:04:12.134Z"
   },
   {
    "duration": 1635,
    "start_time": "2021-11-05T09:04:13.211Z"
   },
   {
    "duration": 8,
    "start_time": "2021-11-05T09:04:14.841Z"
   },
   {
    "duration": 6,
    "start_time": "2021-11-05T09:04:14.845Z"
   },
   {
    "duration": 6,
    "start_time": "2021-11-05T09:04:14.847Z"
   },
   {
    "duration": 5,
    "start_time": "2021-11-05T09:04:14.850Z"
   },
   {
    "duration": 5,
    "start_time": "2021-11-05T09:04:14.852Z"
   },
   {
    "duration": 5,
    "start_time": "2021-11-05T09:04:14.854Z"
   },
   {
    "duration": 5,
    "start_time": "2021-11-05T09:04:14.856Z"
   },
   {
    "duration": -2,
    "start_time": "2021-11-05T09:04:14.865Z"
   },
   {
    "duration": -2,
    "start_time": "2021-11-05T09:04:14.867Z"
   },
   {
    "duration": -2,
    "start_time": "2021-11-05T09:04:14.869Z"
   },
   {
    "duration": 5,
    "start_time": "2021-11-05T09:04:35.922Z"
   },
   {
    "duration": 145,
    "start_time": "2021-11-05T09:04:35.929Z"
   },
   {
    "duration": 9,
    "start_time": "2021-11-05T09:04:36.077Z"
   },
   {
    "duration": 10,
    "start_time": "2021-11-05T09:04:42.563Z"
   },
   {
    "duration": 285,
    "start_time": "2021-11-05T09:04:44.624Z"
   },
   {
    "duration": 5,
    "start_time": "2021-11-05T09:06:10.821Z"
   },
   {
    "duration": 888,
    "start_time": "2021-11-05T09:07:17.259Z"
   },
   {
    "duration": 379,
    "start_time": "2021-11-05T09:07:40.758Z"
   },
   {
    "duration": 516,
    "start_time": "2021-11-05T09:08:09.690Z"
   },
   {
    "duration": 353,
    "start_time": "2021-11-05T09:08:19.123Z"
   },
   {
    "duration": 286,
    "start_time": "2021-11-05T09:10:51.282Z"
   },
   {
    "duration": 12,
    "start_time": "2021-11-05T09:11:07.620Z"
   },
   {
    "duration": 289,
    "start_time": "2021-11-05T09:11:11.974Z"
   },
   {
    "duration": 664,
    "start_time": "2021-11-05T09:12:09.111Z"
   },
   {
    "duration": 305,
    "start_time": "2021-11-05T09:12:28.948Z"
   },
   {
    "duration": 293,
    "start_time": "2021-11-05T09:12:39.894Z"
   },
   {
    "duration": 286,
    "start_time": "2021-11-05T09:18:33.243Z"
   },
   {
    "duration": 286,
    "start_time": "2021-11-05T09:23:06.387Z"
   },
   {
    "duration": 20,
    "start_time": "2021-11-05T09:23:22.823Z"
   },
   {
    "duration": 5,
    "start_time": "2021-11-05T09:23:43.826Z"
   },
   {
    "duration": 113,
    "start_time": "2021-11-05T09:23:43.834Z"
   },
   {
    "duration": 9,
    "start_time": "2021-11-05T09:23:43.950Z"
   },
   {
    "duration": 314,
    "start_time": "2021-11-05T09:23:43.961Z"
   },
   {
    "duration": 16,
    "start_time": "2021-11-05T09:23:52.389Z"
   },
   {
    "duration": 297,
    "start_time": "2021-11-05T09:23:56.736Z"
   },
   {
    "duration": 6,
    "start_time": "2021-11-05T09:27:52.745Z"
   },
   {
    "duration": 117,
    "start_time": "2021-11-05T09:27:52.754Z"
   },
   {
    "duration": 11,
    "start_time": "2021-11-05T09:27:52.875Z"
   },
   {
    "duration": 381,
    "start_time": "2021-11-05T09:27:52.890Z"
   },
   {
    "duration": 15,
    "start_time": "2021-11-05T09:27:53.274Z"
   },
   {
    "duration": 340,
    "start_time": "2021-11-05T09:27:53.291Z"
   },
   {
    "duration": 6,
    "start_time": "2021-11-05T09:27:53.635Z"
   },
   {
    "duration": 105,
    "start_time": "2021-11-05T09:27:53.646Z"
   },
   {
    "duration": 20,
    "start_time": "2021-11-05T09:27:53.754Z"
   },
   {
    "duration": 77,
    "start_time": "2021-11-05T09:27:53.776Z"
   },
   {
    "duration": 271,
    "start_time": "2021-11-05T09:27:53.856Z"
   },
   {
    "duration": 74,
    "start_time": "2021-11-05T09:27:54.056Z"
   },
   {
    "duration": 71,
    "start_time": "2021-11-05T09:27:54.061Z"
   },
   {
    "duration": 271,
    "start_time": "2021-11-05T09:28:02.233Z"
   },
   {
    "duration": 13,
    "start_time": "2021-11-05T09:28:47.852Z"
   },
   {
    "duration": 275,
    "start_time": "2021-11-05T09:28:53.475Z"
   },
   {
    "duration": 6,
    "start_time": "2021-11-05T09:28:56.951Z"
   },
   {
    "duration": 76,
    "start_time": "2021-11-05T09:29:00.192Z"
   },
   {
    "duration": 18,
    "start_time": "2021-11-05T09:29:04.534Z"
   },
   {
    "duration": 58,
    "start_time": "2021-11-05T09:29:09.260Z"
   },
   {
    "duration": 30,
    "start_time": "2021-11-05T09:29:13.643Z"
   },
   {
    "duration": 47,
    "start_time": "2021-11-05T09:29:16.886Z"
   },
   {
    "duration": 72,
    "start_time": "2021-11-05T09:29:19.959Z"
   },
   {
    "duration": 962,
    "start_time": "2021-11-05T09:29:23.815Z"
   },
   {
    "duration": 44752,
    "start_time": "2021-11-05T09:29:59.229Z"
   },
   {
    "duration": 6,
    "start_time": "2021-11-05T09:40:00.591Z"
   },
   {
    "duration": 139,
    "start_time": "2021-11-05T09:40:00.599Z"
   },
   {
    "duration": 9,
    "start_time": "2021-11-05T09:40:00.741Z"
   },
   {
    "duration": 305,
    "start_time": "2021-11-05T09:40:00.753Z"
   },
   {
    "duration": 14,
    "start_time": "2021-11-05T09:40:01.061Z"
   },
   {
    "duration": 308,
    "start_time": "2021-11-05T09:40:01.077Z"
   },
   {
    "duration": 6,
    "start_time": "2021-11-05T09:40:01.387Z"
   },
   {
    "duration": 71,
    "start_time": "2021-11-05T09:40:01.397Z"
   },
   {
    "duration": 13,
    "start_time": "2021-11-05T09:40:01.471Z"
   },
   {
    "duration": 67,
    "start_time": "2021-11-05T09:40:01.487Z"
   },
   {
    "duration": 25,
    "start_time": "2021-11-05T09:40:01.557Z"
   },
   {
    "duration": 54,
    "start_time": "2021-11-05T09:40:01.584Z"
   },
   {
    "duration": 103,
    "start_time": "2021-11-05T09:40:01.731Z"
   },
   {
    "duration": 972,
    "start_time": "2021-11-05T09:40:01.837Z"
   },
   {
    "duration": 45513,
    "start_time": "2021-11-05T09:40:02.812Z"
   },
   {
    "duration": 105,
    "start_time": "2021-11-05T09:40:48.330Z"
   },
   {
    "duration": 110,
    "start_time": "2021-11-05T09:40:48.438Z"
   },
   {
    "duration": 90,
    "start_time": "2021-11-05T09:40:48.550Z"
   },
   {
    "duration": 1251,
    "start_time": "2021-11-05T09:40:48.730Z"
   },
   {
    "duration": 1237071,
    "start_time": "2021-11-05T09:40:49.984Z"
   },
   {
    "duration": 18,
    "start_time": "2021-11-05T10:01:27.057Z"
   },
   {
    "duration": 64,
    "start_time": "2021-11-05T10:01:27.078Z"
   },
   {
    "duration": 496,
    "start_time": "2021-11-05T10:01:27.235Z"
   },
   {
    "duration": 446299,
    "start_time": "2021-11-05T10:01:27.734Z"
   },
   {
    "duration": 111,
    "start_time": "2021-11-05T10:08:54.036Z"
   },
   {
    "duration": 11,
    "start_time": "2021-11-05T10:33:34.319Z"
   },
   {
    "duration": 3,
    "start_time": "2021-11-05T10:33:51.758Z"
   },
   {
    "duration": 8,
    "start_time": "2021-11-05T10:57:50.570Z"
   },
   {
    "duration": 10,
    "start_time": "2021-11-05T10:57:59.213Z"
   },
   {
    "duration": 11,
    "start_time": "2021-11-05T10:58:26.331Z"
   },
   {
    "duration": 19,
    "start_time": "2021-11-05T11:00:13.304Z"
   },
   {
    "duration": 181,
    "start_time": "2021-11-05T11:00:35.647Z"
   },
   {
    "duration": 1403,
    "start_time": "2021-11-05T11:00:47.146Z"
   },
   {
    "duration": 1053971,
    "start_time": "2021-11-05T11:01:06.019Z"
   },
   {
    "duration": 5,
    "start_time": "2021-11-05T12:25:46.341Z"
   },
   {
    "duration": 205,
    "start_time": "2021-11-05T12:25:46.349Z"
   },
   {
    "duration": 12,
    "start_time": "2021-11-05T12:25:46.559Z"
   },
   {
    "duration": 489,
    "start_time": "2021-11-05T12:25:46.575Z"
   },
   {
    "duration": 13,
    "start_time": "2021-11-05T12:25:47.067Z"
   },
   {
    "duration": 4,
    "start_time": "2021-11-05T12:25:47.083Z"
   },
   {
    "duration": 9,
    "start_time": "2021-11-05T12:25:47.089Z"
   },
   {
    "duration": 53,
    "start_time": "2021-11-05T12:25:47.131Z"
   },
   {
    "duration": 42,
    "start_time": "2021-11-05T12:25:47.187Z"
   },
   {
    "duration": 41,
    "start_time": "2021-11-05T12:25:47.232Z"
   },
   {
    "duration": 27,
    "start_time": "2021-11-05T12:25:47.276Z"
   },
   {
    "duration": 14,
    "start_time": "2021-11-05T12:25:47.330Z"
   },
   {
    "duration": 182,
    "start_time": "2021-11-05T12:25:47.348Z"
   },
   {
    "duration": 971,
    "start_time": "2021-11-05T12:25:47.534Z"
   },
   {
    "duration": 45602,
    "start_time": "2021-11-05T12:25:48.509Z"
   },
   {
    "duration": 15,
    "start_time": "2021-11-05T12:26:34.114Z"
   },
   {
    "duration": 104,
    "start_time": "2021-11-05T12:26:34.132Z"
   },
   {
    "duration": 19,
    "start_time": "2021-11-05T12:26:34.328Z"
   },
   {
    "duration": 184,
    "start_time": "2021-11-05T12:26:34.350Z"
   },
   {
    "duration": 1073,
    "start_time": "2021-11-05T12:26:34.537Z"
   },
   {
    "duration": 764276,
    "start_time": "2021-11-05T12:26:35.613Z"
   },
   {
    "duration": 19,
    "start_time": "2021-11-05T12:39:19.892Z"
   },
   {
    "duration": 106,
    "start_time": "2021-11-05T12:39:19.932Z"
   },
   {
    "duration": 503,
    "start_time": "2021-11-05T12:39:20.042Z"
   },
   {
    "duration": 389907,
    "start_time": "2021-11-05T12:39:20.547Z"
   },
   {
    "duration": 102,
    "start_time": "2021-11-05T12:45:50.457Z"
   },
   {
    "duration": 81,
    "start_time": "2021-11-05T13:18:13.078Z"
   },
   {
    "duration": 98,
    "start_time": "2021-11-05T13:20:22.707Z"
   },
   {
    "duration": 3,
    "start_time": "2021-11-05T13:45:37.194Z"
   },
   {
    "duration": 27,
    "start_time": "2021-11-05T13:51:44.366Z"
   },
   {
    "duration": 29,
    "start_time": "2021-11-05T13:52:08.099Z"
   },
   {
    "duration": 10,
    "start_time": "2021-11-05T13:57:49.329Z"
   },
   {
    "duration": 9,
    "start_time": "2021-11-05T13:57:58.498Z"
   },
   {
    "duration": 206,
    "start_time": "2021-11-05T13:58:58.630Z"
   },
   {
    "duration": 21,
    "start_time": "2021-11-05T14:00:14.552Z"
   },
   {
    "duration": 22,
    "start_time": "2021-11-05T14:00:58.566Z"
   },
   {
    "duration": 104,
    "start_time": "2021-11-05T14:01:06.734Z"
   },
   {
    "duration": 1068,
    "start_time": "2021-11-05T14:01:15.844Z"
   },
   {
    "duration": 9,
    "start_time": "2021-11-05T14:02:20.174Z"
   },
   {
    "duration": 9,
    "start_time": "2021-11-05T14:02:37.519Z"
   },
   {
    "duration": 23,
    "start_time": "2021-11-05T14:02:48.078Z"
   },
   {
    "duration": 891342,
    "start_time": "2021-11-05T14:03:02.521Z"
   },
   {
    "duration": 9,
    "start_time": "2021-11-05T14:17:53.865Z"
   },
   {
    "duration": 21,
    "start_time": "2021-11-05T14:20:51.461Z"
   },
   {
    "duration": 132,
    "start_time": "2021-11-05T14:20:56.001Z"
   },
   {
    "duration": 55,
    "start_time": "2021-11-05T14:21:23.086Z"
   },
   {
    "duration": 21,
    "start_time": "2021-11-05T14:22:50.682Z"
   },
   {
    "duration": 26,
    "start_time": "2021-11-05T14:22:54.351Z"
   },
   {
    "duration": 187,
    "start_time": "2021-11-05T14:23:15.645Z"
   },
   {
    "duration": 425,
    "start_time": "2021-11-05T14:23:30.302Z"
   },
   {
    "duration": 382914,
    "start_time": "2021-11-05T14:23:47.315Z"
   },
   {
    "duration": 67,
    "start_time": "2021-11-05T14:33:40.883Z"
   },
   {
    "duration": 15,
    "start_time": "2021-11-05T14:43:29.110Z"
   },
   {
    "duration": 341,
    "start_time": "2021-11-05T14:43:49.107Z"
   },
   {
    "duration": 28550,
    "start_time": "2021-11-05T14:44:19.346Z"
   },
   {
    "duration": 662,
    "start_time": "2021-11-05T14:49:57.284Z"
   },
   {
    "duration": 643,
    "start_time": "2021-11-05T14:49:57.305Z"
   },
   {
    "duration": 641,
    "start_time": "2021-11-05T14:49:57.309Z"
   },
   {
    "duration": 638,
    "start_time": "2021-11-05T14:49:57.314Z"
   },
   {
    "duration": 637,
    "start_time": "2021-11-05T14:49:57.317Z"
   },
   {
    "duration": 636,
    "start_time": "2021-11-05T14:49:57.320Z"
   },
   {
    "duration": 630,
    "start_time": "2021-11-05T14:49:57.328Z"
   },
   {
    "duration": 619,
    "start_time": "2021-11-05T14:49:57.341Z"
   },
   {
    "duration": 612,
    "start_time": "2021-11-05T14:49:57.350Z"
   },
   {
    "duration": 612,
    "start_time": "2021-11-05T14:49:57.353Z"
   },
   {
    "duration": 612,
    "start_time": "2021-11-05T14:49:57.355Z"
   },
   {
    "duration": 609,
    "start_time": "2021-11-05T14:49:57.360Z"
   },
   {
    "duration": 603,
    "start_time": "2021-11-05T14:49:57.368Z"
   },
   {
    "duration": 603,
    "start_time": "2021-11-05T14:49:57.370Z"
   },
   {
    "duration": 601,
    "start_time": "2021-11-05T14:49:57.374Z"
   },
   {
    "duration": 601,
    "start_time": "2021-11-05T14:49:57.376Z"
   },
   {
    "duration": 643,
    "start_time": "2021-11-05T14:49:57.385Z"
   },
   {
    "duration": 640,
    "start_time": "2021-11-05T14:49:57.390Z"
   },
   {
    "duration": 641,
    "start_time": "2021-11-05T14:49:57.392Z"
   },
   {
    "duration": 633,
    "start_time": "2021-11-05T14:49:57.402Z"
   },
   {
    "duration": 632,
    "start_time": "2021-11-05T14:49:57.405Z"
   },
   {
    "duration": 632,
    "start_time": "2021-11-05T14:49:57.407Z"
   },
   {
    "duration": 601,
    "start_time": "2021-11-05T14:49:57.441Z"
   },
   {
    "duration": 599,
    "start_time": "2021-11-05T14:49:57.445Z"
   },
   {
    "duration": 594,
    "start_time": "2021-11-05T14:49:57.452Z"
   },
   {
    "duration": 589,
    "start_time": "2021-11-05T14:49:57.460Z"
   },
   {
    "duration": 583,
    "start_time": "2021-11-05T14:49:57.468Z"
   },
   {
    "duration": 1500,
    "start_time": "2021-11-05T14:50:13.516Z"
   },
   {
    "duration": 129,
    "start_time": "2021-11-05T14:50:15.019Z"
   },
   {
    "duration": 10,
    "start_time": "2021-11-05T14:50:15.151Z"
   },
   {
    "duration": 337,
    "start_time": "2021-11-05T14:50:15.164Z"
   },
   {
    "duration": 11,
    "start_time": "2021-11-05T14:50:15.503Z"
   },
   {
    "duration": 13,
    "start_time": "2021-11-05T14:50:15.516Z"
   },
   {
    "duration": 5,
    "start_time": "2021-11-05T14:50:15.532Z"
   },
   {
    "duration": 52,
    "start_time": "2021-11-05T14:50:15.541Z"
   },
   {
    "duration": 14,
    "start_time": "2021-11-05T14:50:15.630Z"
   },
   {
    "duration": 47,
    "start_time": "2021-11-05T14:50:15.646Z"
   },
   {
    "duration": 58,
    "start_time": "2021-11-05T14:50:15.696Z"
   },
   {
    "duration": 76,
    "start_time": "2021-11-05T14:50:15.756Z"
   },
   {
    "duration": 105,
    "start_time": "2021-11-05T14:50:15.836Z"
   },
   {
    "duration": 367,
    "start_time": "2021-11-05T14:50:16.031Z"
   },
   {
    "duration": 45929,
    "start_time": "2021-11-05T14:50:16.401Z"
   },
   {
    "duration": 10,
    "start_time": "2021-11-05T14:51:02.333Z"
   },
   {
    "duration": 186,
    "start_time": "2021-11-05T14:51:02.345Z"
   },
   {
    "duration": 22,
    "start_time": "2021-11-05T14:51:02.533Z"
   },
   {
    "duration": 87,
    "start_time": "2021-11-05T14:51:02.557Z"
   },
   {
    "duration": 547,
    "start_time": "2021-11-05T14:51:02.732Z"
   },
   {
    "duration": 142658,
    "start_time": "2021-11-05T14:51:03.281Z"
   },
   {
    "duration": 10,
    "start_time": "2021-11-05T14:53:25.942Z"
   },
   {
    "duration": 26,
    "start_time": "2021-11-05T14:53:25.957Z"
   },
   {
    "duration": 155,
    "start_time": "2021-11-05T14:53:25.986Z"
   },
   {
    "duration": 195,
    "start_time": "2021-11-05T14:53:26.229Z"
   },
   {
    "duration": 273235,
    "start_time": "2021-11-05T14:53:26.426Z"
   },
   {
    "duration": 86,
    "start_time": "2021-11-05T14:57:59.664Z"
   },
   {
    "duration": 1478,
    "start_time": "2021-11-06T09:08:14.014Z"
   },
   {
    "duration": 131,
    "start_time": "2021-11-06T09:08:15.495Z"
   },
   {
    "duration": 12,
    "start_time": "2021-11-06T09:08:15.631Z"
   },
   {
    "duration": 330,
    "start_time": "2021-11-06T09:08:15.646Z"
   },
   {
    "duration": 11,
    "start_time": "2021-11-06T09:08:15.979Z"
   },
   {
    "duration": 3,
    "start_time": "2021-11-06T09:08:15.993Z"
   },
   {
    "duration": 27,
    "start_time": "2021-11-06T09:08:15.999Z"
   },
   {
    "duration": 59,
    "start_time": "2021-11-06T09:08:16.031Z"
   },
   {
    "duration": 23,
    "start_time": "2021-11-06T09:08:16.121Z"
   },
   {
    "duration": 40,
    "start_time": "2021-11-06T09:08:16.147Z"
   },
   {
    "duration": 58,
    "start_time": "2021-11-06T09:08:16.190Z"
   },
   {
    "duration": 73,
    "start_time": "2021-11-06T09:08:16.250Z"
   },
   {
    "duration": 111,
    "start_time": "2021-11-06T09:08:16.325Z"
   },
   {
    "duration": 502,
    "start_time": "2021-11-06T09:08:16.439Z"
   },
   {
    "duration": 48281,
    "start_time": "2021-11-06T09:08:16.944Z"
   },
   {
    "duration": 17,
    "start_time": "2021-11-06T09:09:05.230Z"
   },
   {
    "duration": 80,
    "start_time": "2021-11-06T09:09:05.250Z"
   },
   {
    "duration": 105,
    "start_time": "2021-11-06T09:09:05.333Z"
   },
   {
    "duration": 206,
    "start_time": "2021-11-06T09:09:05.441Z"
   },
   {
    "duration": 454,
    "start_time": "2021-11-06T09:09:05.724Z"
   },
   {
    "duration": 155231,
    "start_time": "2021-11-06T09:09:06.180Z"
   },
   {
    "duration": 15,
    "start_time": "2021-11-06T09:11:41.413Z"
   },
   {
    "duration": 23,
    "start_time": "2021-11-06T09:11:41.434Z"
   },
   {
    "duration": 75,
    "start_time": "2021-11-06T09:11:41.461Z"
   },
   {
    "duration": 363,
    "start_time": "2021-11-06T09:11:41.540Z"
   },
   {
    "duration": 284910,
    "start_time": "2021-11-06T09:11:41.907Z"
   },
   {
    "duration": 70,
    "start_time": "2021-11-06T09:16:26.822Z"
   },
   {
    "duration": 501,
    "start_time": "2021-11-06T09:16:26.895Z"
   },
   {
    "duration": 1473,
    "start_time": "2021-11-07T08:27:28.558Z"
   },
   {
    "duration": 142,
    "start_time": "2021-11-07T08:27:30.033Z"
   },
   {
    "duration": 9,
    "start_time": "2021-11-07T08:27:30.178Z"
   },
   {
    "duration": 316,
    "start_time": "2021-11-07T08:27:30.190Z"
   },
   {
    "duration": 11,
    "start_time": "2021-11-07T08:27:30.508Z"
   },
   {
    "duration": 19,
    "start_time": "2021-11-07T08:27:30.522Z"
   },
   {
    "duration": 34,
    "start_time": "2021-11-07T08:27:30.543Z"
   },
   {
    "duration": 63,
    "start_time": "2021-11-07T08:27:30.582Z"
   },
   {
    "duration": 24,
    "start_time": "2021-11-07T08:27:30.648Z"
   },
   {
    "duration": 44,
    "start_time": "2021-11-07T08:27:30.675Z"
   },
   {
    "duration": 58,
    "start_time": "2021-11-07T08:27:30.722Z"
   },
   {
    "duration": 10,
    "start_time": "2021-11-07T08:27:30.783Z"
   },
   {
    "duration": 109,
    "start_time": "2021-11-07T08:27:30.866Z"
   },
   {
    "duration": 365,
    "start_time": "2021-11-07T08:27:31.068Z"
   },
   {
    "duration": 46853,
    "start_time": "2021-11-07T08:27:31.435Z"
   },
   {
    "duration": 9,
    "start_time": "2021-11-07T08:28:18.291Z"
   },
   {
    "duration": 267,
    "start_time": "2021-11-07T08:28:18.302Z"
   },
   {
    "duration": 21,
    "start_time": "2021-11-07T08:28:18.571Z"
   },
   {
    "duration": 173,
    "start_time": "2021-11-07T08:28:18.595Z"
   },
   {
    "duration": 530,
    "start_time": "2021-11-07T08:28:18.772Z"
   },
   {
    "duration": 147021,
    "start_time": "2021-11-07T08:28:19.304Z"
   },
   {
    "duration": 9,
    "start_time": "2021-11-07T08:30:46.328Z"
   },
   {
    "duration": 41,
    "start_time": "2021-11-07T08:30:46.341Z"
   },
   {
    "duration": 182,
    "start_time": "2021-11-07T08:30:46.385Z"
   },
   {
    "duration": 192,
    "start_time": "2021-11-07T08:30:46.570Z"
   },
   {
    "duration": 267701,
    "start_time": "2021-11-07T08:30:46.767Z"
   },
   {
    "duration": 66,
    "start_time": "2021-11-07T08:35:14.471Z"
   },
   {
    "duration": 298,
    "start_time": "2021-11-07T08:35:14.540Z"
   },
   {
    "duration": 92,
    "start_time": "2021-11-07T08:42:13.666Z"
   },
   {
    "duration": 101,
    "start_time": "2021-11-07T08:43:05.005Z"
   },
   {
    "duration": 97,
    "start_time": "2021-11-07T08:43:19.973Z"
   }
  ],
  "kernelspec": {
   "display_name": "Python 3",
   "language": "python",
   "name": "python3"
  },
  "language_info": {
   "codemirror_mode": {
    "name": "ipython",
    "version": 3
   },
   "file_extension": ".py",
   "mimetype": "text/x-python",
   "name": "python",
   "nbconvert_exporter": "python",
   "pygments_lexer": "ipython3",
   "version": "3.7.8"
  },
  "toc": {
   "base_numbering": 1,
   "nav_menu": {},
   "number_sections": true,
   "sideBar": true,
   "skip_h1_title": true,
   "title_cell": "Содержание",
   "title_sidebar": "Contents",
   "toc_cell": true,
   "toc_position": {},
   "toc_section_display": true,
   "toc_window_display": false
  }
 },
 "nbformat": 4,
 "nbformat_minor": 2
}
